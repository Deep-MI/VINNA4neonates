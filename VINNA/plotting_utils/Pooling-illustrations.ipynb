{
 "cells": [
  {
   "cell_type": "code",
   "execution_count": 93,
   "metadata": {},
   "outputs": [],
   "source": [
    "from matplotlib import pyplot as plt\n",
    "import numpy as np\n",
    "from scipy.ndimage import zoom\n",
    "import itertools\n",
    "from math import floor\n",
    "import nibabel as nib\n",
    "from skimage.transform import rescale, resize, downscale_local_mean, rotate"
   ]
  },
  {
   "cell_type": "code",
   "execution_count": 177,
   "metadata": {},
   "outputs": [
    {
     "data": {
      "image/png": "[encoded data removed]",
      "text/plain": [
       "<Figure size 640x480 with 1 Axes>"
      ]
     },
     "metadata": {},
     "output_type": "display_data"
    }
   ],
   "source": [
    "img = nib.load(\"/groups/ag-reuter/projects/datasets/dHCP/Data/sub-CC00408XX12_ses-125500/T2w_min.nii.gz\")\n",
    "img_d = np.asanyarray(img.dataobj)\n",
    "slice_d = np.transpose(np.moveaxis(img_d, [0, 1, 2], [1, 2, 0]), (0, 2, 1))[166, 40:220, 50:250]\n",
    "\n",
    "#plt.imshow(slice_d, cmap=\"gray\")\n",
    "\n",
    "plt.axis('off')\n",
    "for i, x in enumerate(range(0, 90, 5)): #[-0.5, 0.5, 1.5, 2.5, 3.5]):\n",
    "    plt.axvline(x-0.5, color='black', linestyle='-', linewidth=1 if  i in [0, 4] else 1)\n",
    "    plt.axhline(x-0.5, color='black', linestyle='-', linewidth=1 if  i in [0, 4] else 1)\n",
    "\n",
    "plt.savefig('grid_90.png')"
   ]
  },
  {
   "cell_type": "code",
   "execution_count": 152,
   "metadata": {},
   "outputs": [
    {
     "data": {
      "image/png": "[encoded data removed]",
      "text/plain": [
       "<Figure size 640x480 with 1 Axes>"
      ]
     },
     "metadata": {},
     "output_type": "display_data"
    }
   ],
   "source": [
    "img = nib.load(\"/groups/ag-reuter/projects/datasets/dHCP/Data/sub-CC00408XX12_ses-125500/T2w_min.nii.gz\")\n",
    "img_d = np.asanyarray(img.dataobj)\n",
    "slice_d = np.transpose(np.moveaxis(img_d, [0, 1, 2], [1, 2, 0]), (0, 2, 1))[166, 90:150, 117:177]\n",
    "slice_rotate = rotate(slice_d, angle=-30, preserve_range=True, mode=\"symmetric\") \n",
    "slice_resize = resize(slice_rotate, (8, 8),\n",
    "                       anti_aliasing=True)\n",
    "#slice_rotate = rotate(slice_resize, angle=-30, preserve_range=True) \n",
    "plt.imshow(slice_resize, cmap=\"magma\")\n",
    "\n",
    "plt.axis('off')\n",
    "for i, x in enumerate(range(0, 9, 1)): #[-0.5, 0.5, 1.5, 2.5, 3.5]):\n",
    "    plt.axvline(x-0.5, color='black', linestyle='-', linewidth=2 if  i in [0, 4] else 2)\n",
    "    plt.axhline(x-0.5, color='black', linestyle='-', linewidth=2 if  i in [0, 4] else 2)\n",
    "\n",
    "plt.savefig('magma16_alias_rotate_8.png')"
   ]
  },
  {
   "cell_type": "code",
   "execution_count": 23,
   "metadata": {},
   "outputs": [
    {
     "ename": "ValueError",
     "evalue": "cannot reshape array of size 64 into shape (2,2,2,2)",
     "output_type": "error",
     "traceback": [
      "\u001b[0;31m---------------------------------------------------------------------------\u001b[0m",
      "\u001b[0;31mValueError\u001b[0m                                Traceback (most recent call last)",
      "Cell \u001b[0;32mIn[23], line 2\u001b[0m\n\u001b[1;32m      1\u001b[0m data \u001b[38;5;241m=\u001b[39m np\u001b[38;5;241m.\u001b[39mrandom\u001b[38;5;241m.\u001b[39muniform(\u001b[38;5;241m0.\u001b[39m, \u001b[38;5;241m0.8\u001b[39m, size\u001b[38;5;241m=\u001b[39m[\u001b[38;5;241m8\u001b[39m, \u001b[38;5;241m8\u001b[39m])\n\u001b[0;32m----> 2\u001b[0m max_data \u001b[38;5;241m=\u001b[39m \u001b[43mdata\u001b[49m\u001b[38;5;241;43m.\u001b[39;49m\u001b[43mreshape\u001b[49m\u001b[43m(\u001b[49m\u001b[43m[\u001b[49m\u001b[38;5;241;43m2\u001b[39;49m\u001b[43m,\u001b[49m\u001b[43m]\u001b[49m\u001b[38;5;241;43m*\u001b[39;49m\u001b[38;5;241;43m4\u001b[39;49m\u001b[43m)\u001b[49m\u001b[38;5;241m.\u001b[39mmin(axis\u001b[38;5;241m=\u001b[39m(\u001b[38;5;241m1\u001b[39m,\u001b[38;5;241m-\u001b[39m\u001b[38;5;241m1\u001b[39m))\n\u001b[1;32m      3\u001b[0m interp_data \u001b[38;5;241m=\u001b[39m zoom(data, \u001b[38;5;241m3\u001b[39m\u001b[38;5;241m/\u001b[39m\u001b[38;5;241m4\u001b[39m)\n\u001b[1;32m      4\u001b[0m up_data \u001b[38;5;241m=\u001b[39m np\u001b[38;5;241m.\u001b[39mrandom\u001b[38;5;241m.\u001b[39muniform(\u001b[38;5;241m0\u001b[39m, \u001b[38;5;241m0.8\u001b[39m, size\u001b[38;5;241m=\u001b[39m[\u001b[38;5;241m2\u001b[39m,\u001b[38;5;241m2\u001b[39m])\n",
      "\u001b[0;31mValueError\u001b[0m: cannot reshape array of size 64 into shape (2,2,2,2)"
     ]
    }
   ],
   "source": [
    "data = np.random.uniform(0., 0.8, size=[8, 8])\n",
    "max_data = data.reshape([2,]*4).min(axis=(1,-1))\n",
    "interp_data = zoom(data, 3/4)\n",
    "up_data = np.random.uniform(0, 0.8, size=[2,2])"
   ]
  },
  {
   "cell_type": "code",
   "execution_count": 13,
   "metadata": {},
   "outputs": [],
   "source": [
    "arg_data = np.ones([4,4])\n",
    "for i,j in itertools.product(range(0,4), range(0,4)):\n",
    "    if np.allclose(data[i,j], max_data[floor(i/2), floor(j/2)]):\n",
    "        arg_data[i,j] = up_data[floor(i/2),floor(j/2)]"
   ]
  },
  {
   "cell_type": "code",
   "execution_count": 11,
   "metadata": {},
   "outputs": [
    {
     "data": {
      "image/png": "[encoded data removed]",
      "text/plain": [
       "<Figure size 640x480 with 1 Axes>"
      ]
     },
     "metadata": {},
     "output_type": "display_data"
    }
   ],
   "source": [
    "ax = plt.imshow(data, cmap='binary', vmin=0, vmax=1)\n",
    "\n",
    "plt.axis('off')\n",
    "for i, x in enumerate([-0.5, 0.5, 1.5, 2.5, 3.5]):\n",
    "    plt.axvline(x, color='black', linestyle='-', linewidth=8 if  i in [0, 4] else 4)\n",
    "    plt.axhline(x, color='black', linestyle='-', linewidth=8 if  i in [0, 4] else 4)\n",
    "    \n",
    "#plt.savefig('4x4.png')"
   ]
  },
  {
   "cell_type": "code",
   "execution_count": 8,
   "metadata": {},
   "outputs": [
    {
     "data": {
      "image/png": "[encoded data removed]",
      "text/plain": [
       "<Figure size 640x480 with 1 Axes>"
      ]
     },
     "metadata": {},
     "output_type": "display_data"
    }
   ],
   "source": [
    "ax = plt.imshow(max_data, cmap='binary', vmin=0, vmax=1)\n",
    "\n",
    "plt.axis('off')\n",
    "for i, x in enumerate([-0.5, 0.5, 1.5]):\n",
    "    plt.axvline(x, color='black', linestyle='-', linewidth=8 if  i in [0, 2] else 4)\n",
    "    plt.axhline(x, color='black', linestyle='-', linewidth=8 if  i in [0, 2] else 4)\n",
    "\n",
    "#plt.savefig('maxpool.png')"
   ]
  },
  {
   "cell_type": "code",
   "execution_count": 21,
   "metadata": {},
   "outputs": [
    {
     "data": {
      "image/png": "[encoded data removed]",
      "text/plain": [
       "<Figure size 432x288 with 1 Axes>"
      ]
     },
     "metadata": {
      "needs_background": "light"
     },
     "output_type": "display_data"
    }
   ],
   "source": [
    "ax = plt.imshow(interp_data, cmap='binary', vmin=0, vmax=1)\n",
    "\n",
    "plt.axis('off')\n",
    "for i, x in enumerate([-0.5, 0.5, 1.5, 2.5]):\n",
    "    plt.axvline(x, color='black', linestyle='-', linewidth=8 if  i in [0, 3] else 4)\n",
    "    plt.axhline(x, color='black', linestyle='-', linewidth=8 if  i in [0, 3] else 4)\n",
    "    \n",
    "    \n",
    "plt.ylim(-0.2, 2.5)\n",
    "plt.xlim(-0.5, 2.3)\n",
    "\n",
    "plt.savefig('interp.png')"
   ]
  },
  {
   "cell_type": "code",
   "execution_count": 18,
   "metadata": {},
   "outputs": [
    {
     "data": {
      "image/png": "[encoded data removed]",
      "text/plain": [
       "<Figure size 432x288 with 1 Axes>"
      ]
     },
     "metadata": {
      "needs_background": "light"
     },
     "output_type": "display_data"
    }
   ],
   "source": [
    "ax = plt.imshow(up_data, cmap='binary', vmin=0, vmax=1)\n",
    "\n",
    "plt.axis('off')\n",
    "for i, x in enumerate([-0.5, 0.5, 1.5]):\n",
    "    plt.axvline(x, color='black', linestyle='-', linewidth=8 if  i in [0, 2] else 4)\n",
    "    plt.axhline(x, color='black', linestyle='-', linewidth=8 if  i in [0, 2] else 4)\n",
    "    \n",
    "plt.savefig('unpool.png')"
   ]
  },
  {
   "cell_type": "code",
   "execution_count": 19,
   "metadata": {},
   "outputs": [
    {
     "data": {
      "image/png": "[encoded data removed]",
      "text/plain": [
       "<Figure size 432x288 with 1 Axes>"
      ]
     },
     "metadata": {
      "needs_background": "light"
     },
     "output_type": "display_data"
    }
   ],
   "source": [
    "ax = plt.imshow(arg_data, cmap='binary', vmin=0, vmax=1)\n",
    "\n",
    "plt.axis('off')\n",
    "for i, x in enumerate([-0.5, 0.5, 1.5, 2.5, 3.5]):\n",
    "    plt.axvline(x, color='black', linestyle='-', linewidth=8 if  i in [0, 4] else 4)\n",
    "    plt.axhline(x, color='black', linestyle='-', linewidth=8 if  i in [0, 4] else 4)\n",
    "    \n",
    "plt.savefig('unpooled.png')"
   ]
  },
  {
   "cell_type": "code",
   "execution_count": 13,
   "metadata": {},
   "outputs": [
    {
     "name": "stdout",
     "output_type": "stream",
     "text": [
      "[[0.13847372 0.20092338 0.10466343 0.11944343]\n",
      " [0.71291328 0.15257382 0.77560267 0.47583083]\n",
      " [0.55217597 0.24536898 0.73117762 0.10737622]\n",
      " [0.37770254 0.78204498 0.67184562 0.42870215]]\n",
      "[[0.13847372 0.10466343]\n",
      " [0.24536898 0.10737622]]\n",
      "[[[[0.13847372 0.20092338]\n",
      "   [0.10466343 0.11944343]]\n",
      "\n",
      "  [[0.71291328 0.15257382]\n",
      "   [0.77560267 0.47583083]]]\n",
      "\n",
      "\n",
      " [[[0.55217597 0.24536898]\n",
      "   [0.73117762 0.10737622]]\n",
      "\n",
      "  [[0.37770254 0.78204498]\n",
      "   [0.67184562 0.42870215]]]]\n"
     ]
    }
   ],
   "source": [
    "print(data)\n",
    "print(data.reshape([2,]*4).min(axis=(1,-1)))\n",
    "print(data.reshape([2,]*4))"
   ]
  },
  {
   "cell_type": "code",
   "execution_count": null,
   "metadata": {},
   "outputs": [],
   "source": []
  },
  {
   "cell_type": "code",
   "execution_count": null,
   "metadata": {},
   "outputs": [],
   "source": []
  }
 ],
 "metadata": {
  "kernelspec": {
   "display_name": "Python 3 (ipykernel)",
   "language": "python",
   "name": "python3"
  },
  "language_info": {
   "codemirror_mode": {
    "name": "ipython",
    "version": 3
   },
   "file_extension": ".py",
   "mimetype": "text/x-python",
   "name": "python",
   "nbconvert_exporter": "python",
   "pygments_lexer": "ipython3",
   "version": "3.8.10"
  }
 },
 "nbformat": 4,
 "nbformat_minor": 4
}
