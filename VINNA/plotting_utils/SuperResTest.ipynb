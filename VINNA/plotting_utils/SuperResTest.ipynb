{
 "cells": [
  {
   "cell_type": "code",
   "execution_count": 34,
   "id": "e4be4e14",
   "metadata": {},
   "outputs": [],
   "source": [
    "import nibabel as nib\n",
    "import numpy as np\n",
    "import plotly.express as px\n",
    "import plotting_utils as pu\n",
    "import glob\n",
    "import pandas as pd\n",
    "import os\n",
    "import torch\n",
    "import importlib\n",
    "import sys\n",
    "sys.path.append(\"/projects/master-theses/henschell\")\n",
    "from FastInfantSurfer.data_util import data_utils as du"
   ]
  },
  {
   "cell_type": "code",
   "execution_count": 36,
   "id": "0cb0c819",
   "metadata": {},
   "outputs": [
    {
     "data": {
      "text/plain": [
       "<module 'FastInfantSurfer.data_util.data_utils' from '/projects/master-theses/henschell/FastInfantSurfer/data_util/data_utils.py'>"
      ]
     },
     "execution_count": 36,
     "metadata": {},
     "output_type": "execute_result"
    }
   ],
   "source": [
    "importlib.reload(du)"
   ]
  },
  {
   "cell_type": "code",
   "execution_count": 2,
   "id": "5a834229",
   "metadata": {},
   "outputs": [],
   "source": [
    "# Load orig image, ground truth image\n",
    "data = \"/projects/datasets/dHCP/Data\"\n",
    "sbj=\"sub-CC00189XX17_ses-62301\"\n",
    "gts=sbj + \"_desc-drawem88_dseg\"\n",
    "\n",
    "orig = nib.load(os.path.join(data, sbj, \"T2w.nii.gz\"))\n",
    "orig_e = nib.load(os.path.join(data, sbj, \"T2w_08_dhcp.nii.gz\"))\n",
    "orig_min = nib.load(os.path.join(data, sbj, \"T2w_min.nii.gz\"))\n",
    "\n",
    "gt = nib.load(os.path.join(data, sbj, gts + \".nii.gz\"))\n",
    "gt_e = nib.load(os.path.join(data, sbj, gts + \"_08.nii.gz\"))\n",
    "gt_min = nib.load(os.path.join(data, sbj, gts + \"_min.nii.gz\"))"
   ]
  },
  {
   "cell_type": "code",
   "execution_count": 8,
   "id": "79c91030",
   "metadata": {},
   "outputs": [],
   "source": [
    "def rescale_probs(probs, rescale_shape):\n",
    "    \"\"\"\n",
    "    Rescale probabilities:\n",
    "      - (move class channel to front, )\n",
    "      - interpolate to shape defined by out_scale_factor\n",
    "      - (move class channel to back)\n",
    "    :params torch.tensor probs: predicted probabilities for image (CxHxWxD)\n",
    "    :params tuple rescale_shape: Output shape for rescaled probability map (HxWxD)\n",
    "    :return torch.tensor: rescaled probabilities for image (CxHxWxD)\n",
    "    \"\"\"\n",
    "    if isinstance(probs, np.ndarray):\n",
    "        # to torch tensor\n",
    "        probs = torch.from_numpy(probs)\n",
    "    probs = probs.unsqueeze(0)\n",
    "    probs = torch.nn.functional.interpolate(probs, size=rescale_shape, \n",
    "                                            mode=\"trilinear\", align_corners=False)\n",
    "    return torch.squeeze(probs, 0)"
   ]
  },
  {
   "cell_type": "code",
   "execution_count": 9,
   "id": "548a813e",
   "metadata": {},
   "outputs": [],
   "source": [
    "def to_one_hot(seg, all_seg_labels=None):\n",
    "    if all_seg_labels is None:\n",
    "        all_seg_labels = np.unique(seg)\n",
    "    result = np.zeros((len(all_seg_labels), *seg.shape), dtype=seg.dtype)\n",
    "    for i, l in enumerate(all_seg_labels):\n",
    "        result[i][seg == l] = 1\n",
    "    return result"
   ]
  },
  {
   "cell_type": "code",
   "execution_count": 10,
   "id": "f11ac995",
   "metadata": {},
   "outputs": [],
   "source": [
    "gt_array = np.asanyarray(gt.dataobj, dtype=np.float32)\n",
    "gt_e_array = np.asanyarray(gt_e.dataobj, dtype=np.int32)\n",
    "gt_min_array = np.asanyarray(gt_min.dataobj, dtype=np.int32)\n",
    "gt_array_oh = to_one_hot(gt_array)\n",
    "gt_array_re_min = rescale_probs(gt_array_oh, (512, 512, 512))"
   ]
  },
  {
   "cell_type": "code",
   "execution_count": 7,
   "id": "ab873835",
   "metadata": {},
   "outputs": [
    {
     "data": {
      "text/plain": [
       "torch.Size([512, 512, 512])"
      ]
     },
     "execution_count": 7,
     "metadata": {},
     "output_type": "execute_result"
    }
   ],
   "source": [
    "_, pred = torch.max(gt_array_re_min, 0)\n",
    "pred.shape"
   ]
  },
  {
   "cell_type": "code",
   "execution_count": 12,
   "id": "67c53d9b",
   "metadata": {},
   "outputs": [
    {
     "data": {
      "text/plain": [
       "array([[ -0.80000001,   0.        ,   0.        ,  99.32225037],\n",
       "       [  0.        ,   0.        ,   0.80000001, -86.29715729],\n",
       "       [  0.        ,  -0.80000001,   0.        , 124.35568237],\n",
       "       [  0.        ,   0.        ,   0.        ,   1.        ]])"
      ]
     },
     "execution_count": 12,
     "metadata": {},
     "output_type": "execute_result"
    }
   ],
   "source": [
    "gt_e.affine"
   ]
  },
  {
   "cell_type": "code",
   "execution_count": 20,
   "id": "48459955",
   "metadata": {},
   "outputs": [
    {
     "data": {
      "text/plain": [
       "array([[ -0.5       ,   0.        ,   0.        ,  69.42224121],\n",
       "       [  0.        ,   0.        ,   0.5       , -56.39715576],\n",
       "       [  0.        ,  -0.5       ,   0.        ,  94.45568848],\n",
       "       [  0.        ,   0.        ,   0.        ,   1.        ]])"
      ]
     },
     "execution_count": 20,
     "metadata": {},
     "output_type": "execute_result"
    }
   ],
   "source": [
    "# Problem: output of mri_convert is not 512, but 290 --> how does this need to be cropped\n",
    "# to accurately present the image? Need to get origin stuff from affine and calculate it\n",
    "gt_min.affine"
   ]
  },
  {
   "cell_type": "code",
   "execution_count": 61,
   "id": "5897db10",
   "metadata": {},
   "outputs": [
    {
     "data": {
      "text/plain": [
       "array([[  -1.        ,    0.        ,    0.        ,  124.92224121],\n",
       "       [   0.        ,    0.        ,    1.        , -111.89715576],\n",
       "       [   0.        ,   -1.        ,    0.        ,  149.95568848],\n",
       "       [   0.        ,    0.        ,    0.        ,    1.        ]])"
      ]
     },
     "execution_count": 61,
     "metadata": {},
     "output_type": "execute_result"
    }
   ],
   "source": [
    "hallo = gt.affine\n",
    "hallo"
   ]
  },
  {
   "cell_type": "code",
   "execution_count": 67,
   "id": "263ebcbe",
   "metadata": {},
   "outputs": [
    {
     "data": {
      "text/plain": [
       "array([[  -0.5       ,    0.        ,    0.        ,  124.92224121],\n",
       "       [   0.        ,    0.        ,    0.5       , -111.89715576],\n",
       "       [   0.        ,   -0.5       ,    0.        ,  149.95568848],\n",
       "       [   0.        ,    0.        ,    0.        ,    1.        ]])"
      ]
     },
     "execution_count": 67,
     "metadata": {},
     "output_type": "execute_result"
    }
   ],
   "source": [
    "# vox2ras\n",
    "hallo[:3, :3] = hallo[:3, :3] * 0.5\n",
    "hallo"
   ]
  },
  {
   "cell_type": "code",
   "execution_count": 79,
   "id": "5b695ede",
   "metadata": {},
   "outputs": [
    {
     "data": {
      "text/plain": [
       "array([[  -0.5       ,    0.        ,    0.        ,  125.42224121],\n",
       "       [   0.        ,    0.        ,    0.5       , -112.39715576],\n",
       "       [   0.        ,   -0.5       ,    0.        ,  150.45568848],\n",
       "       [   0.        ,    0.        ,    0.        ,    1.        ]])"
      ]
     },
     "execution_count": 79,
     "metadata": {},
     "output_type": "execute_result"
    }
   ],
   "source": [
    "# zooms = The size of voxels of the output affine\n",
    "# new_shape = The extent of the (N-1) dimensions of the space described by the new affine. If None, use shape.\n",
    "rescaled_affine = nib.affines.rescale_affine(gt.affine, gt.shape, 0.5, new_shape=(512, 512, 512))\n",
    "rescaled_affine"
   ]
  },
  {
   "cell_type": "code",
   "execution_count": 23,
   "id": "ffe91e96",
   "metadata": {},
   "outputs": [],
   "source": [
    "def rescale_affine(affine, shape, zooms, new_shape=None):\n",
    "    \"\"\" Return a new affine matrix with updated voxel sizes (zooms)\n",
    "    This function preserves the rotations and shears of the original\n",
    "    affine, as well as the RAS location of the central voxel of the\n",
    "    image.\n",
    "    Parameters\n",
    "    ----------\n",
    "    affine : (N, N) array-like\n",
    "        NxN transform matrix in homogeneous coordinates representing an affine\n",
    "        transformation from an (N-1)-dimensional space to an (N-1)-dimensional\n",
    "        space. An example is a 4x4 transform representing rotations and\n",
    "        translations in 3 dimensions.\n",
    "    shape : (N-1,) array-like\n",
    "        The extent of the (N-1) dimensions of the original space\n",
    "    zooms : (N-1,) array-like\n",
    "        The size of voxels of the output affine\n",
    "    new_shape : (N-1,) array-like, optional\n",
    "        The extent of the (N-1) dimensions of the space described by the\n",
    "        new affine. If ``None``, use ``shape``.\n",
    "    Returns\n",
    "    -------\n",
    "    affine : (N, N) array\n",
    "        A new affine transform with the specified voxel sizes\n",
    "    \"\"\"\n",
    "    shape = np.array(shape, copy=False)\n",
    "    new_shape = np.array(new_shape if new_shape is not None else shape)\n",
    "\n",
    "    s = nib.affines.voxel_sizes(affine)\n",
    "    rzs_out = affine[:3, :3] * zooms / s\n",
    "\n",
    "    # Using xyz = A @ ijk, determine translation\n",
    "    centroid = nib.affines.apply_affine(affine, (shape - 1) // 2)\n",
    "    t_out = centroid - rzs_out @ ((new_shape - 1) // 2)\n",
    "    return nib.affines.from_matvec(rzs_out, t_out)"
   ]
  },
  {
   "cell_type": "code",
   "execution_count": 24,
   "id": "30b88602",
   "metadata": {},
   "outputs": [
    {
     "data": {
      "text/plain": [
       "array([[ -0.8       ,   0.        ,   0.        ,  99.52224121],\n",
       "       [  0.        ,   0.        ,   0.8       , -86.49715576],\n",
       "       [  0.        ,  -0.8       ,   0.        , 124.55568848],\n",
       "       [  0.        ,   0.        ,   0.        ,   1.        ]])"
      ]
     },
     "execution_count": 24,
     "metadata": {},
     "output_type": "execute_result"
    }
   ],
   "source": [
    "rescaled_affine = rescale_affine(gt.affine, gt.shape, 0.8, new_shape=(256, 256, 256))\n",
    "rescaled_affine"
   ]
  },
  {
   "cell_type": "code",
   "execution_count": 80,
   "id": "5a2b82d2",
   "metadata": {},
   "outputs": [
    {
     "name": "stdout",
     "output_type": "stream",
     "text": [
      "[[  -0.5           0.            0.          125.42224121]\n",
      " [   0.            0.            0.5        -112.39715576]\n",
      " [   0.           -0.5           0.          150.45568848]\n",
      " [   0.            0.            0.            1.        ]]\n"
     ]
    }
   ],
   "source": [
    "test_header = gt.header\n",
    "test_header.set_data_shape((512, 512, 512))\n",
    "test_header.set_zooms(zooms=(0.5, 0.5, 0.5))\n",
    "test_header.set_sform(rescaled_affine)\n",
    "print(test_header.get_best_affine())"
   ]
  },
  {
   "cell_type": "code",
   "execution_count": 81,
   "id": "e0ac88cb",
   "metadata": {},
   "outputs": [],
   "source": [
    "du.save_image_as_nifti(test_header, rescaled_affine, pred.numpy(), os.path.join(data, sbj, \"test_supersample.mgz\"))"
   ]
  },
  {
   "cell_type": "code",
   "execution_count": 52,
   "id": "ec1422cb",
   "metadata": {},
   "outputs": [
    {
     "name": "stdout",
     "output_type": "stream",
     "text": [
      "<class 'nibabel.nifti1.Nifti1Header'> object, endian='<'\n",
      "sizeof_hdr      : 348\n",
      "data_type       : b''\n",
      "db_name         : b''\n",
      "extents         : 0\n",
      "session_error   : 0\n",
      "regular         : b''\n",
      "dim_info        : 0\n",
      "dim             : [  3 290 290 290   1   1   1   1]\n",
      "intent_p1       : 0.0\n",
      "intent_p2       : 0.0\n",
      "intent_p3       : 0.0\n",
      "intent_code     : none\n",
      "datatype        : int16\n",
      "bitpix          : 16\n",
      "slice_start     : 0\n",
      "pixdim          : [-1.     0.5    0.5    0.5    0.001  1.     1.     1.   ]\n",
      "vox_offset      : 0.0\n",
      "scl_slope       : nan\n",
      "scl_inter       : nan\n",
      "slice_end       : 0\n",
      "slice_code      : unknown\n",
      "xyzt_units      : 10\n",
      "cal_max         : 0.0\n",
      "cal_min         : 0.0\n",
      "slice_duration  : 0.0\n",
      "toffset         : 0.0\n",
      "glmax           : 0\n",
      "glmin           : 0\n",
      "descrip         : b'FreeSurfer Jul 20 2021'\n",
      "aux_file        : b''\n",
      "qform_code      : scanner\n",
      "sform_code      : scanner\n",
      "quatern_b       : 0.0\n",
      "quatern_c       : 0.70710677\n",
      "quatern_d       : -0.70710677\n",
      "qoffset_x       : 69.42224\n",
      "qoffset_y       : -56.397156\n",
      "qoffset_z       : 94.45569\n",
      "srow_x          : [-0.5      0.       0.      69.42224]\n",
      "srow_y          : [  0.         0.         0.5      -56.397156]\n",
      "srow_z          : [ 0.      -0.5      0.      94.45569]\n",
      "intent_name     : b''\n",
      "magic           : b'n+1'\n"
     ]
    }
   ],
   "source": [
    "print(gt_min.header)"
   ]
  },
  {
   "cell_type": "code",
   "execution_count": 74,
   "id": "c17eaf1c",
   "metadata": {},
   "outputs": [
    {
     "name": "stdout",
     "output_type": "stream",
     "text": [
      "222, 111.0, 401.0\n"
     ]
    },
    {
     "data": {
      "text/plain": [
       "291"
      ]
     },
     "execution_count": 74,
     "metadata": {},
     "output_type": "execute_result"
    }
   ],
   "source": [
    "# super \n",
    "# [0, 0, 0] --> [-112, -112, -112]\n",
    "# [512, 0, 0] --> [400, -112, -112]\n",
    "# [0, 512, 0] --> [-112, 400, -112]\n",
    "# [0, 0, 512] --> [-112, -112, 400]\n",
    "# [512, 512, 512] --> [400, 400, 400]\n",
    "\n",
    "# [0, 0, 0] --> [112, 112, 112]\n",
    "# [290, 0, 0] --> [402, 112, 112]\n",
    "# [0, 290, 0] --> [112, 402, 112]\n",
    "# [0, 0, 290] --> [112, 112, 402]\n",
    "# [290, 290, 290] --> [402, 402, 402]\n",
    "print(f\"{512-290}, {(512-290)/2}, {512-(512-290)/2}\")\n",
    "402-111"
   ]
  },
  {
   "cell_type": "code",
   "execution_count": 82,
   "id": "d645f2fa",
   "metadata": {},
   "outputs": [],
   "source": [
    "# cut image 512 --> \n",
    "pred_cut = pred[112:403, 112:403, 112:403]\n",
    "\n",
    "du.save_image_as_nifti(gt_min.header, gt_min.affine, pred_cut.numpy(), os.path.join(data, sbj, \"test_supersample_rlpy.mgz\"))"
   ]
  },
  {
   "cell_type": "code",
   "execution_count": 119,
   "id": "476fa721",
   "metadata": {},
   "outputs": [],
   "source": [
    "def crop_image_to_minsize(orig, gt_min, img, zoom, save_as=None):\n",
    "    ras_zero = np.asarray([0, 0, 0, 1])\n",
    "    ras_zero_vox_min = np.linalg.inv(gt_min.affine) @ ras_zero\n",
    "    \n",
    "    rescaled_affine = nib.affines.rescale_affine(orig.affine, orig.shape, zoom, \n",
    "                                                 new_shape=np.asarray(orig.shape)/zoom)\n",
    "    ras_zero_vox_rescale = np.linalg.inv(rescaled_affine) @ ras_zero\n",
    "    start = (ras_zero_vox_rescale[:-1] - ras_zero_vox_min[:-1]).astype(int)\n",
    "    stop = start + gt_min.shape\n",
    "    pred_cut = img[start[0]:stop[0], start[1]:stop[1], start[2]:stop[2]]\n",
    "    if save_as is not None:\n",
    "        du.save_image_as_nifti(gt_min.header, gt_min.affine, pred_cut, save_as)\n",
    "    return pred_cut\n",
    "    "
   ]
  },
  {
   "cell_type": "code",
   "execution_count": 130,
   "id": "bb790c84",
   "metadata": {},
   "outputs": [],
   "source": [
    "gt_array_oh = to_one_hot(gt_array)\n",
    "target_zoom = 0.8\n",
    "gt_array_re_min = rescale_probs(gt_array_oh, (320, 320, 320))\n",
    "_, pred = torch.max(gt_array_re_min, 0)\n",
    "out = crop_image_to_minsize(gt, gt_e, pred, target_zoom, os.path.join(data, sbj, \"test_supersample_rlpy_08.mgz\"))"
   ]
  },
  {
   "cell_type": "code",
   "execution_count": 131,
   "id": "fba40918",
   "metadata": {},
   "outputs": [
    {
     "data": {
      "text/plain": [
       "torch.Size([256, 256, 256])"
      ]
     },
     "execution_count": 131,
     "metadata": {},
     "output_type": "execute_result"
    }
   ],
   "source": [
    "out.shape"
   ]
  },
  {
   "cell_type": "code",
   "execution_count": 123,
   "id": "842aee6d",
   "metadata": {},
   "outputs": [
    {
     "data": {
      "text/plain": [
       "array([320., 320., 320.])"
      ]
     },
     "execution_count": 123,
     "metadata": {},
     "output_type": "execute_result"
    }
   ],
   "source": [
    "np.asarray(gt.shape) / 0.8"
   ]
  },
  {
   "cell_type": "code",
   "execution_count": 104,
   "id": "6b468461",
   "metadata": {},
   "outputs": [
    {
     "data": {
      "text/plain": [
       "torch.Size([512, 512, 512])"
      ]
     },
     "execution_count": 104,
     "metadata": {},
     "output_type": "execute_result"
    }
   ],
   "source": [
    "pred.shape"
   ]
  },
  {
   "cell_type": "code",
   "execution_count": 114,
   "id": "c21d9948",
   "metadata": {},
   "outputs": [
    {
     "data": {
      "text/plain": [
       "torch.Size([290, 290, 290])"
      ]
     },
     "execution_count": 114,
     "metadata": {},
     "output_type": "execute_result"
    }
   ],
   "source": [
    "pred[b[0]:stop[0], b[1]:stop[1], b[2]:stop[2]].shape"
   ]
  },
  {
   "cell_type": "code",
   "execution_count": 37,
   "id": "a1adc9a3",
   "metadata": {},
   "outputs": [],
   "source": [
    "def crop_image_from_affine(large_img, small_img, save_as=None, dtype=None):\n",
    "    if isinstance(large_img, str):\n",
    "        large_img = nib.load(large_img)\n",
    "    if isinstance(small_img, str):\n",
    "        small_img = nib.load(small_img)\n",
    "    ras_zero = np.asarray([0, 0, 0, 1])\n",
    "    ras_zero_vox_min = np.linalg.inv(small_img.affine) @ ras_zero\n",
    "    ras_zero_vox_max = np.linalg.inv(large_img.affine) @ ras_zero\n",
    "    start = (ras_zero_vox_max[:-1] - ras_zero_vox_min[:-1]).astype(int)\n",
    "    stop = start + small_img.shape\n",
    "    large_cut = np.asanyarray(large_img.dataobj)[start[0]:stop[0], start[1]:stop[1], start[2]:stop[2]]\n",
    "    if save_as is not None:\n",
    "        du.save_image_as_nifti(small_img.header, small_img.affine, large_cut, save_as, dtype=dtype)\n",
    "    return large_cut"
   ]
  },
  {
   "cell_type": "code",
   "execution_count": 38,
   "id": "74e85917",
   "metadata": {},
   "outputs": [],
   "source": [
    "testbase = \"/projects/datasets/dHCP/Data/sub-CC00362XX08_ses-114500\"\n",
    "sampled = os.path.join(testbase, \"T2w_1to5.nii.gz\")\n",
    "smallorig = os.path.join(testbase, \"T2w_min.nii.gz\")\n",
    "smallsampled = os.path.join(testbase, \"T2w_1to5_cropped.nii.gz\")\n",
    "\n",
    "sampled_small = crop_image_from_affine(sampled, smallorig, smallsampled)"
   ]
  },
  {
   "cell_type": "code",
   "execution_count": 51,
   "id": "e52dec8b",
   "metadata": {},
   "outputs": [],
   "source": [
    "sbjs=pd.read_csv(\"/projects/master-theses/henschell/FastInfantSurfer/data/dataset_split_large_testing_t1t2.csv\", \n",
    "                 names=[\"Subject\"])\n",
    "sbjs[\"ID\"] = sbjs[\"Subject\"].str.split(\"/\").str[-1]"
   ]
  },
  {
   "cell_type": "code",
   "execution_count": 52,
   "id": "90e361cf",
   "metadata": {},
   "outputs": [
    {
     "data": {
      "text/plain": [
       "0      sub-CC00362XX08_ses-114500\n",
       "1      sub-CC00754AN12_ses-223800\n",
       "2       sub-CC00955XX15_ses-39730\n",
       "3      sub-CC00284BN13_ses-111500\n",
       "4       sub-CC00136BN13_ses-45000\n",
       "                  ...            \n",
       "102    sub-CC00418BN14_ses-125300\n",
       "103     sub-CC00129AN14_ses-43500\n",
       "104      sub-CC00907XX16_ses-4230\n",
       "105     sub-CC00136AN13_ses-45100\n",
       "106     sub-CC00067XX10_ses-20200\n",
       "Name: ID, Length: 107, dtype: object"
      ]
     },
     "execution_count": 52,
     "metadata": {},
     "output_type": "execute_result"
    }
   ],
   "source": [
    "sbjs[\"ID\"]"
   ]
  },
  {
   "cell_type": "code",
   "execution_count": 55,
   "id": "ba370987",
   "metadata": {},
   "outputs": [
    {
     "name": "stdout",
     "output_type": "stream",
     "text": [
      "Cropping /projects/datasets/dHCP/Data/sub-CC00362XX08_ses-114500/T2w_1to5.nii.gz\n",
      "Cropping /projects/datasets/dHCP/Data/sub-CC00362XX08_ses-114500/T2w_8to5.nii.gz\n",
      "Cropping /projects/datasets/dHCP/Data/sub-CC00362XX08_ses-114500/mri/aseg.TestingSetRerun_FastSurferVINN_T2_10NN05_T2_LatentAug_full.mgz\n",
      "Cropping /projects/datasets/dHCP/Data/sub-CC00362XX08_ses-114500/mri/aseg.TestingSetRerun_FastSurferVINN_T2_08NN05_T2_LatentAug_full.mgz\n",
      "Cropping /projects/datasets/dHCP/Data/sub-CC00362XX08_ses-114500/T2w_1to8.nii.gz\n",
      "Cropping /projects/datasets/dHCP/Data/sub-CC00362XX08_ses-114500/mri/aseg.TestingSetRerun_FastSurferVINN_T2_10NN08_T2_LatentAug_full.mgz\n",
      "Cropping /projects/datasets/dHCP/Data/sub-CC00754AN12_ses-223800/T2w_1to5.nii.gz\n",
      "Cropping /projects/datasets/dHCP/Data/sub-CC00754AN12_ses-223800/T2w_8to5.nii.gz\n",
      "Cropping /projects/datasets/dHCP/Data/sub-CC00754AN12_ses-223800/mri/aseg.TestingSetRerun_FastSurferVINN_T2_10NN05_T2_LatentAug_full.mgz\n",
      "Cropping /projects/datasets/dHCP/Data/sub-CC00754AN12_ses-223800/mri/aseg.TestingSetRerun_FastSurferVINN_T2_08NN05_T2_LatentAug_full.mgz\n",
      "Cropping /projects/datasets/dHCP/Data/sub-CC00754AN12_ses-223800/T2w_1to8.nii.gz\n",
      "Cropping /projects/datasets/dHCP/Data/sub-CC00754AN12_ses-223800/mri/aseg.TestingSetRerun_FastSurferVINN_T2_10NN08_T2_LatentAug_full.mgz\n",
      "Cropping /projects/datasets/dHCP/Data/sub-CC00955XX15_ses-39730/T2w_1to5.nii.gz\n",
      "Cropping /projects/datasets/dHCP/Data/sub-CC00955XX15_ses-39730/T2w_8to5.nii.gz\n",
      "Cropping /projects/datasets/dHCP/Data/sub-CC00955XX15_ses-39730/mri/aseg.TestingSetRerun_FastSurferVINN_T2_10NN05_T2_LatentAug_full.mgz\n",
      "Cropping /projects/datasets/dHCP/Data/sub-CC00955XX15_ses-39730/mri/aseg.TestingSetRerun_FastSurferVINN_T2_08NN05_T2_LatentAug_full.mgz\n",
      "Cropping /projects/datasets/dHCP/Data/sub-CC00955XX15_ses-39730/T2w_1to8.nii.gz\n",
      "Cropping /projects/datasets/dHCP/Data/sub-CC00955XX15_ses-39730/mri/aseg.TestingSetRerun_FastSurferVINN_T2_10NN08_T2_LatentAug_full.mgz\n",
      "Cropping /projects/datasets/dHCP/Data/sub-CC00284BN13_ses-111500/T2w_1to5.nii.gz\n",
      "Cropping /projects/datasets/dHCP/Data/sub-CC00284BN13_ses-111500/T2w_8to5.nii.gz\n",
      "Cropping /projects/datasets/dHCP/Data/sub-CC00284BN13_ses-111500/mri/aseg.TestingSetRerun_FastSurferVINN_T2_10NN05_T2_LatentAug_full.mgz\n",
      "Cropping /projects/datasets/dHCP/Data/sub-CC00284BN13_ses-111500/mri/aseg.TestingSetRerun_FastSurferVINN_T2_08NN05_T2_LatentAug_full.mgz\n",
      "Cropping /projects/datasets/dHCP/Data/sub-CC00284BN13_ses-111500/T2w_1to8.nii.gz\n",
      "Cropping /projects/datasets/dHCP/Data/sub-CC00284BN13_ses-111500/mri/aseg.TestingSetRerun_FastSurferVINN_T2_10NN08_T2_LatentAug_full.mgz\n",
      "Cropping /projects/datasets/dHCP/Data/sub-CC00136BN13_ses-45000/T2w_1to5.nii.gz\n",
      "Cropping /projects/datasets/dHCP/Data/sub-CC00136BN13_ses-45000/T2w_8to5.nii.gz\n",
      "Cropping /projects/datasets/dHCP/Data/sub-CC00136BN13_ses-45000/mri/aseg.TestingSetRerun_FastSurferVINN_T2_10NN05_T2_LatentAug_full.mgz\n",
      "Cropping /projects/datasets/dHCP/Data/sub-CC00136BN13_ses-45000/mri/aseg.TestingSetRerun_FastSurferVINN_T2_08NN05_T2_LatentAug_full.mgz\n",
      "Cropping /projects/datasets/dHCP/Data/sub-CC00136BN13_ses-45000/T2w_1to8.nii.gz\n",
      "Cropping /projects/datasets/dHCP/Data/sub-CC00136BN13_ses-45000/mri/aseg.TestingSetRerun_FastSurferVINN_T2_10NN08_T2_LatentAug_full.mgz\n",
      "Cropping /projects/datasets/dHCP/Data/sub-CC00162XX06_ses-53600/T2w_1to5.nii.gz\n",
      "Cropping /projects/datasets/dHCP/Data/sub-CC00162XX06_ses-53600/T2w_8to5.nii.gz\n",
      "Cropping /projects/datasets/dHCP/Data/sub-CC00162XX06_ses-53600/mri/aseg.TestingSetRerun_FastSurferVINN_T2_10NN05_T2_LatentAug_full.mgz\n",
      "Cropping /projects/datasets/dHCP/Data/sub-CC00162XX06_ses-53600/mri/aseg.TestingSetRerun_FastSurferVINN_T2_08NN05_T2_LatentAug_full.mgz\n",
      "Cropping /projects/datasets/dHCP/Data/sub-CC00162XX06_ses-53600/T2w_1to8.nii.gz\n",
      "Cropping /projects/datasets/dHCP/Data/sub-CC00162XX06_ses-53600/mri/aseg.TestingSetRerun_FastSurferVINN_T2_10NN08_T2_LatentAug_full.mgz\n",
      "Cropping /projects/datasets/dHCP/Data/sub-CC00086XX13_ses-31500/T2w_1to5.nii.gz\n",
      "Cropping /projects/datasets/dHCP/Data/sub-CC00086XX13_ses-31500/T2w_8to5.nii.gz\n",
      "Cropping /projects/datasets/dHCP/Data/sub-CC00086XX13_ses-31500/mri/aseg.TestingSetRerun_FastSurferVINN_T2_10NN05_T2_LatentAug_full.mgz\n",
      "Cropping /projects/datasets/dHCP/Data/sub-CC00086XX13_ses-31500/mri/aseg.TestingSetRerun_FastSurferVINN_T2_08NN05_T2_LatentAug_full.mgz\n",
      "Cropping /projects/datasets/dHCP/Data/sub-CC00086XX13_ses-31500/T2w_1to8.nii.gz\n",
      "Cropping /projects/datasets/dHCP/Data/sub-CC00086XX13_ses-31500/mri/aseg.TestingSetRerun_FastSurferVINN_T2_10NN08_T2_LatentAug_full.mgz\n",
      "Cropping /projects/datasets/dHCP/Data/sub-CC00079XX14_ses-30000/T2w_1to5.nii.gz\n",
      "Cropping /projects/datasets/dHCP/Data/sub-CC00079XX14_ses-30000/T2w_8to5.nii.gz\n",
      "Cropping /projects/datasets/dHCP/Data/sub-CC00079XX14_ses-30000/mri/aseg.TestingSetRerun_FastSurferVINN_T2_10NN05_T2_LatentAug_full.mgz\n",
      "Cropping /projects/datasets/dHCP/Data/sub-CC00079XX14_ses-30000/mri/aseg.TestingSetRerun_FastSurferVINN_T2_08NN05_T2_LatentAug_full.mgz\n",
      "Cropping /projects/datasets/dHCP/Data/sub-CC00079XX14_ses-30000/T2w_1to8.nii.gz\n",
      "Cropping /projects/datasets/dHCP/Data/sub-CC00079XX14_ses-30000/mri/aseg.TestingSetRerun_FastSurferVINN_T2_10NN08_T2_LatentAug_full.mgz\n",
      "Cropping /projects/datasets/dHCP/Data/sub-CC00260XX05_ses-85300/T2w_1to5.nii.gz\n",
      "Cropping /projects/datasets/dHCP/Data/sub-CC00260XX05_ses-85300/T2w_8to5.nii.gz\n",
      "Cropping /projects/datasets/dHCP/Data/sub-CC00260XX05_ses-85300/mri/aseg.TestingSetRerun_FastSurferVINN_T2_10NN05_T2_LatentAug_full.mgz\n",
      "Cropping /projects/datasets/dHCP/Data/sub-CC00260XX05_ses-85300/mri/aseg.TestingSetRerun_FastSurferVINN_T2_08NN05_T2_LatentAug_full.mgz\n",
      "Cropping /projects/datasets/dHCP/Data/sub-CC00260XX05_ses-85300/T2w_1to8.nii.gz\n",
      "Cropping /projects/datasets/dHCP/Data/sub-CC00260XX05_ses-85300/mri/aseg.TestingSetRerun_FastSurferVINN_T2_10NN08_T2_LatentAug_full.mgz\n",
      "Cropping /projects/datasets/dHCP/Data/sub-CC00408XX12_ses-125500/T2w_1to5.nii.gz\n",
      "Cropping /projects/datasets/dHCP/Data/sub-CC00408XX12_ses-125500/T2w_8to5.nii.gz\n",
      "Cropping /projects/datasets/dHCP/Data/sub-CC00408XX12_ses-125500/mri/aseg.TestingSetRerun_FastSurferVINN_T2_10NN05_T2_LatentAug_full.mgz\n",
      "Cropping /projects/datasets/dHCP/Data/sub-CC00408XX12_ses-125500/mri/aseg.TestingSetRerun_FastSurferVINN_T2_08NN05_T2_LatentAug_full.mgz\n",
      "Cropping /projects/datasets/dHCP/Data/sub-CC00408XX12_ses-125500/T2w_1to8.nii.gz\n",
      "Cropping /projects/datasets/dHCP/Data/sub-CC00408XX12_ses-125500/mri/aseg.TestingSetRerun_FastSurferVINN_T2_10NN08_T2_LatentAug_full.mgz\n",
      "Cropping /projects/datasets/dHCP/Data/sub-CC00909XX18_ses-43730/T2w_1to5.nii.gz\n",
      "Cropping /projects/datasets/dHCP/Data/sub-CC00909XX18_ses-43730/T2w_8to5.nii.gz\n",
      "Cropping /projects/datasets/dHCP/Data/sub-CC00909XX18_ses-43730/mri/aseg.TestingSetRerun_FastSurferVINN_T2_10NN05_T2_LatentAug_full.mgz\n",
      "Cropping /projects/datasets/dHCP/Data/sub-CC00909XX18_ses-43730/mri/aseg.TestingSetRerun_FastSurferVINN_T2_08NN05_T2_LatentAug_full.mgz\n",
      "Cropping /projects/datasets/dHCP/Data/sub-CC00909XX18_ses-43730/T2w_1to8.nii.gz\n",
      "Cropping /projects/datasets/dHCP/Data/sub-CC00909XX18_ses-43730/mri/aseg.TestingSetRerun_FastSurferVINN_T2_10NN08_T2_LatentAug_full.mgz\n",
      "Cropping /projects/datasets/dHCP/Data/sub-CC00350XX04_ses-109100/T2w_1to5.nii.gz\n",
      "Cropping /projects/datasets/dHCP/Data/sub-CC00350XX04_ses-109100/T2w_8to5.nii.gz\n",
      "Cropping /projects/datasets/dHCP/Data/sub-CC00350XX04_ses-109100/mri/aseg.TestingSetRerun_FastSurferVINN_T2_10NN05_T2_LatentAug_full.mgz\n",
      "Cropping /projects/datasets/dHCP/Data/sub-CC00350XX04_ses-109100/mri/aseg.TestingSetRerun_FastSurferVINN_T2_08NN05_T2_LatentAug_full.mgz\n",
      "Cropping /projects/datasets/dHCP/Data/sub-CC00350XX04_ses-109100/T2w_1to8.nii.gz\n",
      "Cropping /projects/datasets/dHCP/Data/sub-CC00350XX04_ses-109100/mri/aseg.TestingSetRerun_FastSurferVINN_T2_10NN08_T2_LatentAug_full.mgz\n",
      "Cropping /projects/datasets/dHCP/Data/sub-CC00254XX07_ses-84300/T2w_1to5.nii.gz\n",
      "Cropping /projects/datasets/dHCP/Data/sub-CC00254XX07_ses-84300/T2w_8to5.nii.gz\n",
      "Cropping /projects/datasets/dHCP/Data/sub-CC00254XX07_ses-84300/mri/aseg.TestingSetRerun_FastSurferVINN_T2_10NN05_T2_LatentAug_full.mgz\n",
      "Cropping /projects/datasets/dHCP/Data/sub-CC00254XX07_ses-84300/mri/aseg.TestingSetRerun_FastSurferVINN_T2_08NN05_T2_LatentAug_full.mgz\n"
     ]
    },
    {
     "name": "stdout",
     "output_type": "stream",
     "text": [
      "Cropping /projects/datasets/dHCP/Data/sub-CC00254XX07_ses-84300/T2w_1to8.nii.gz\n",
      "Cropping /projects/datasets/dHCP/Data/sub-CC00254XX07_ses-84300/mri/aseg.TestingSetRerun_FastSurferVINN_T2_10NN08_T2_LatentAug_full.mgz\n",
      "Cropping /projects/datasets/dHCP/Data/sub-CC00181XX09_ses-60000/T2w_1to5.nii.gz\n",
      "Cropping /projects/datasets/dHCP/Data/sub-CC00181XX09_ses-60000/T2w_8to5.nii.gz\n",
      "Cropping /projects/datasets/dHCP/Data/sub-CC00181XX09_ses-60000/mri/aseg.TestingSetRerun_FastSurferVINN_T2_10NN05_T2_LatentAug_full.mgz\n",
      "Cropping /projects/datasets/dHCP/Data/sub-CC00181XX09_ses-60000/mri/aseg.TestingSetRerun_FastSurferVINN_T2_08NN05_T2_LatentAug_full.mgz\n",
      "Cropping /projects/datasets/dHCP/Data/sub-CC00181XX09_ses-60000/T2w_1to8.nii.gz\n",
      "Cropping /projects/datasets/dHCP/Data/sub-CC00181XX09_ses-60000/mri/aseg.TestingSetRerun_FastSurferVINN_T2_10NN08_T2_LatentAug_full.mgz\n",
      "Cropping /projects/datasets/dHCP/Data/sub-CC00998AN26_ses-34030/T2w_1to5.nii.gz\n",
      "Cropping /projects/datasets/dHCP/Data/sub-CC00998AN26_ses-34030/T2w_8to5.nii.gz\n",
      "Cropping /projects/datasets/dHCP/Data/sub-CC00998AN26_ses-34030/mri/aseg.TestingSetRerun_FastSurferVINN_T2_10NN05_T2_LatentAug_full.mgz\n",
      "Cropping /projects/datasets/dHCP/Data/sub-CC00998AN26_ses-34030/mri/aseg.TestingSetRerun_FastSurferVINN_T2_08NN05_T2_LatentAug_full.mgz\n",
      "Cropping /projects/datasets/dHCP/Data/sub-CC00998AN26_ses-34030/T2w_1to8.nii.gz\n",
      "Cropping /projects/datasets/dHCP/Data/sub-CC00998AN26_ses-34030/mri/aseg.TestingSetRerun_FastSurferVINN_T2_10NN08_T2_LatentAug_full.mgz\n",
      "Cropping /projects/datasets/dHCP/Data/sub-CC00850XX09_ses-4930/T2w_1to5.nii.gz\n",
      "Cropping /projects/datasets/dHCP/Data/sub-CC00850XX09_ses-4930/T2w_8to5.nii.gz\n",
      "Cropping /projects/datasets/dHCP/Data/sub-CC00850XX09_ses-4930/mri/aseg.TestingSetRerun_FastSurferVINN_T2_10NN05_T2_LatentAug_full.mgz\n",
      "Cropping /projects/datasets/dHCP/Data/sub-CC00850XX09_ses-4930/mri/aseg.TestingSetRerun_FastSurferVINN_T2_08NN05_T2_LatentAug_full.mgz\n",
      "Cropping /projects/datasets/dHCP/Data/sub-CC00850XX09_ses-4930/T2w_1to8.nii.gz\n",
      "Cropping /projects/datasets/dHCP/Data/sub-CC00850XX09_ses-4930/mri/aseg.TestingSetRerun_FastSurferVINN_T2_10NN08_T2_LatentAug_full.mgz\n",
      "Cropping /projects/datasets/dHCP/Data/sub-CC00236XX14_ses-78700/T2w_1to5.nii.gz\n",
      "Cropping /projects/datasets/dHCP/Data/sub-CC00236XX14_ses-78700/T2w_8to5.nii.gz\n",
      "Cropping /projects/datasets/dHCP/Data/sub-CC00236XX14_ses-78700/mri/aseg.TestingSetRerun_FastSurferVINN_T2_10NN05_T2_LatentAug_full.mgz\n",
      "Cropping /projects/datasets/dHCP/Data/sub-CC00236XX14_ses-78700/mri/aseg.TestingSetRerun_FastSurferVINN_T2_08NN05_T2_LatentAug_full.mgz\n",
      "Cropping /projects/datasets/dHCP/Data/sub-CC00236XX14_ses-78700/T2w_1to8.nii.gz\n",
      "Cropping /projects/datasets/dHCP/Data/sub-CC00236XX14_ses-78700/mri/aseg.TestingSetRerun_FastSurferVINN_T2_10NN08_T2_LatentAug_full.mgz\n",
      "Cropping /projects/datasets/dHCP/Data/sub-CC00483XX14_ses-144200/T2w_1to5.nii.gz\n",
      "Cropping /projects/datasets/dHCP/Data/sub-CC00483XX14_ses-144200/T2w_8to5.nii.gz\n",
      "Cropping /projects/datasets/dHCP/Data/sub-CC00483XX14_ses-144200/mri/aseg.TestingSetRerun_FastSurferVINN_T2_10NN05_T2_LatentAug_full.mgz\n",
      "Cropping /projects/datasets/dHCP/Data/sub-CC00483XX14_ses-144200/mri/aseg.TestingSetRerun_FastSurferVINN_T2_08NN05_T2_LatentAug_full.mgz\n",
      "Cropping /projects/datasets/dHCP/Data/sub-CC00483XX14_ses-144200/T2w_1to8.nii.gz\n",
      "Cropping /projects/datasets/dHCP/Data/sub-CC00483XX14_ses-144200/mri/aseg.TestingSetRerun_FastSurferVINN_T2_10NN08_T2_LatentAug_full.mgz\n",
      "Cropping /projects/datasets/dHCP/Data/sub-CC00492AN15_ses-140900/T2w_1to5.nii.gz\n",
      "Cropping /projects/datasets/dHCP/Data/sub-CC00492AN15_ses-140900/T2w_8to5.nii.gz\n",
      "Cropping /projects/datasets/dHCP/Data/sub-CC00492AN15_ses-140900/mri/aseg.TestingSetRerun_FastSurferVINN_T2_10NN05_T2_LatentAug_full.mgz\n",
      "Cropping /projects/datasets/dHCP/Data/sub-CC00492AN15_ses-140900/mri/aseg.TestingSetRerun_FastSurferVINN_T2_08NN05_T2_LatentAug_full.mgz\n",
      "Cropping /projects/datasets/dHCP/Data/sub-CC00492AN15_ses-140900/T2w_1to8.nii.gz\n",
      "Cropping /projects/datasets/dHCP/Data/sub-CC00492AN15_ses-140900/mri/aseg.TestingSetRerun_FastSurferVINN_T2_10NN08_T2_LatentAug_full.mgz\n",
      "Cropping /projects/datasets/dHCP/Data/sub-CC00955XX15_ses-21030/T2w_1to5.nii.gz\n",
      "Cropping /projects/datasets/dHCP/Data/sub-CC00955XX15_ses-21030/T2w_8to5.nii.gz\n",
      "Cropping /projects/datasets/dHCP/Data/sub-CC00955XX15_ses-21030/mri/aseg.TestingSetRerun_FastSurferVINN_T2_10NN05_T2_LatentAug_full.mgz\n",
      "Cropping /projects/datasets/dHCP/Data/sub-CC00955XX15_ses-21030/mri/aseg.TestingSetRerun_FastSurferVINN_T2_08NN05_T2_LatentAug_full.mgz\n",
      "Cropping /projects/datasets/dHCP/Data/sub-CC00955XX15_ses-21030/T2w_1to8.nii.gz\n",
      "Cropping /projects/datasets/dHCP/Data/sub-CC00955XX15_ses-21030/mri/aseg.TestingSetRerun_FastSurferVINN_T2_10NN08_T2_LatentAug_full.mgz\n",
      "Cropping /projects/datasets/dHCP/Data/sub-CC01059BN12_ses-72330/T2w_1to5.nii.gz\n",
      "Cropping /projects/datasets/dHCP/Data/sub-CC01059BN12_ses-72330/T2w_8to5.nii.gz\n",
      "Cropping /projects/datasets/dHCP/Data/sub-CC01059BN12_ses-72330/mri/aseg.TestingSetRerun_FastSurferVINN_T2_10NN05_T2_LatentAug_full.mgz\n",
      "Cropping /projects/datasets/dHCP/Data/sub-CC01059BN12_ses-72330/mri/aseg.TestingSetRerun_FastSurferVINN_T2_08NN05_T2_LatentAug_full.mgz\n",
      "Cropping /projects/datasets/dHCP/Data/sub-CC01059BN12_ses-72330/T2w_1to8.nii.gz\n",
      "Cropping /projects/datasets/dHCP/Data/sub-CC01059BN12_ses-72330/mri/aseg.TestingSetRerun_FastSurferVINN_T2_10NN08_T2_LatentAug_full.mgz\n",
      "Cropping /projects/datasets/dHCP/Data/sub-CC00532XX13_ses-154200/T2w_1to5.nii.gz\n",
      "Cropping /projects/datasets/dHCP/Data/sub-CC00532XX13_ses-154200/T2w_8to5.nii.gz\n",
      "Cropping /projects/datasets/dHCP/Data/sub-CC00532XX13_ses-154200/mri/aseg.TestingSetRerun_FastSurferVINN_T2_10NN05_T2_LatentAug_full.mgz\n",
      "Cropping /projects/datasets/dHCP/Data/sub-CC00532XX13_ses-154200/mri/aseg.TestingSetRerun_FastSurferVINN_T2_08NN05_T2_LatentAug_full.mgz\n",
      "Cropping /projects/datasets/dHCP/Data/sub-CC00532XX13_ses-154200/T2w_1to8.nii.gz\n",
      "Cropping /projects/datasets/dHCP/Data/sub-CC00532XX13_ses-154200/mri/aseg.TestingSetRerun_FastSurferVINN_T2_10NN08_T2_LatentAug_full.mgz\n",
      "Cropping /projects/datasets/dHCP/Data/sub-CC01006XX08_ses-62330/T2w_1to5.nii.gz\n",
      "Cropping /projects/datasets/dHCP/Data/sub-CC01006XX08_ses-62330/T2w_8to5.nii.gz\n",
      "Cropping /projects/datasets/dHCP/Data/sub-CC01006XX08_ses-62330/mri/aseg.TestingSetRerun_FastSurferVINN_T2_10NN05_T2_LatentAug_full.mgz\n",
      "Cropping /projects/datasets/dHCP/Data/sub-CC01006XX08_ses-62330/mri/aseg.TestingSetRerun_FastSurferVINN_T2_08NN05_T2_LatentAug_full.mgz\n",
      "Processing failed on sub-CC01006XX08_ses-62330: No such file or no access: '/projects/datasets/dHCP/Data/sub-CC01006XX08_ses-62330/mri/aseg.TestingSetRerun_FastSurferVINN_T2_08NN05_T2_LatentAug_full.mgz'\n",
      "Cropping /projects/datasets/dHCP/Data/sub-CC01006XX08_ses-62330/T2w_1to8.nii.gz\n",
      "Cropping /projects/datasets/dHCP/Data/sub-CC01006XX08_ses-62330/mri/aseg.TestingSetRerun_FastSurferVINN_T2_10NN08_T2_LatentAug_full.mgz\n",
      "Cropping /projects/datasets/dHCP/Data/sub-CC00357XX11_ses-113900/T2w_1to5.nii.gz\n",
      "Cropping /projects/datasets/dHCP/Data/sub-CC00357XX11_ses-113900/T2w_8to5.nii.gz\n",
      "Cropping /projects/datasets/dHCP/Data/sub-CC00357XX11_ses-113900/mri/aseg.TestingSetRerun_FastSurferVINN_T2_10NN05_T2_LatentAug_full.mgz\n",
      "Cropping /projects/datasets/dHCP/Data/sub-CC00357XX11_ses-113900/mri/aseg.TestingSetRerun_FastSurferVINN_T2_08NN05_T2_LatentAug_full.mgz\n",
      "Cropping /projects/datasets/dHCP/Data/sub-CC00357XX11_ses-113900/T2w_1to8.nii.gz\n",
      "Cropping /projects/datasets/dHCP/Data/sub-CC00357XX11_ses-113900/mri/aseg.TestingSetRerun_FastSurferVINN_T2_10NN08_T2_LatentAug_full.mgz\n",
      "Cropping /projects/datasets/dHCP/Data/sub-CC00672AN13_ses-197601/T2w_1to5.nii.gz\n",
      "Cropping /projects/datasets/dHCP/Data/sub-CC00672AN13_ses-197601/T2w_8to5.nii.gz\n",
      "Cropping /projects/datasets/dHCP/Data/sub-CC00672AN13_ses-197601/mri/aseg.TestingSetRerun_FastSurferVINN_T2_10NN05_T2_LatentAug_full.mgz\n",
      "Cropping /projects/datasets/dHCP/Data/sub-CC00672AN13_ses-197601/mri/aseg.TestingSetRerun_FastSurferVINN_T2_08NN05_T2_LatentAug_full.mgz\n",
      "Cropping /projects/datasets/dHCP/Data/sub-CC00672AN13_ses-197601/T2w_1to8.nii.gz\n",
      "Cropping /projects/datasets/dHCP/Data/sub-CC00672AN13_ses-197601/mri/aseg.TestingSetRerun_FastSurferVINN_T2_10NN08_T2_LatentAug_full.mgz\n"
     ]
    },
    {
     "name": "stdout",
     "output_type": "stream",
     "text": [
      "Cropping /projects/datasets/dHCP/Data/sub-CC00829XX21_ses-27411/T2w_1to5.nii.gz\n",
      "Cropping /projects/datasets/dHCP/Data/sub-CC00829XX21_ses-27411/T2w_8to5.nii.gz\n",
      "Cropping /projects/datasets/dHCP/Data/sub-CC00829XX21_ses-27411/mri/aseg.TestingSetRerun_FastSurferVINN_T2_10NN05_T2_LatentAug_full.mgz\n",
      "Cropping /projects/datasets/dHCP/Data/sub-CC00829XX21_ses-27411/mri/aseg.TestingSetRerun_FastSurferVINN_T2_08NN05_T2_LatentAug_full.mgz\n",
      "Cropping /projects/datasets/dHCP/Data/sub-CC00829XX21_ses-27411/T2w_1to8.nii.gz\n",
      "Cropping /projects/datasets/dHCP/Data/sub-CC00829XX21_ses-27411/mri/aseg.TestingSetRerun_FastSurferVINN_T2_10NN08_T2_LatentAug_full.mgz\n",
      "Cropping /projects/datasets/dHCP/Data/sub-CC00343XX14_ses-108500/T2w_1to5.nii.gz\n",
      "Cropping /projects/datasets/dHCP/Data/sub-CC00343XX14_ses-108500/T2w_8to5.nii.gz\n",
      "Cropping /projects/datasets/dHCP/Data/sub-CC00343XX14_ses-108500/mri/aseg.TestingSetRerun_FastSurferVINN_T2_10NN05_T2_LatentAug_full.mgz\n",
      "Cropping /projects/datasets/dHCP/Data/sub-CC00343XX14_ses-108500/mri/aseg.TestingSetRerun_FastSurferVINN_T2_08NN05_T2_LatentAug_full.mgz\n",
      "Cropping /projects/datasets/dHCP/Data/sub-CC00343XX14_ses-108500/T2w_1to8.nii.gz\n",
      "Cropping /projects/datasets/dHCP/Data/sub-CC00343XX14_ses-108500/mri/aseg.TestingSetRerun_FastSurferVINN_T2_10NN08_T2_LatentAug_full.mgz\n",
      "Cropping /projects/datasets/dHCP/Data/sub-CC00923XX16_ses-48430/T2w_1to5.nii.gz\n",
      "Cropping /projects/datasets/dHCP/Data/sub-CC00923XX16_ses-48430/T2w_8to5.nii.gz\n",
      "Cropping /projects/datasets/dHCP/Data/sub-CC00923XX16_ses-48430/mri/aseg.TestingSetRerun_FastSurferVINN_T2_10NN05_T2_LatentAug_full.mgz\n",
      "Cropping /projects/datasets/dHCP/Data/sub-CC00923XX16_ses-48430/mri/aseg.TestingSetRerun_FastSurferVINN_T2_08NN05_T2_LatentAug_full.mgz\n",
      "Cropping /projects/datasets/dHCP/Data/sub-CC00923XX16_ses-48430/T2w_1to8.nii.gz\n",
      "Cropping /projects/datasets/dHCP/Data/sub-CC00923XX16_ses-48430/mri/aseg.TestingSetRerun_FastSurferVINN_T2_10NN08_T2_LatentAug_full.mgz\n",
      "Cropping /projects/datasets/dHCP/Data/sub-CC00314XX09_ses-100101/T2w_1to5.nii.gz\n",
      "Cropping /projects/datasets/dHCP/Data/sub-CC00314XX09_ses-100101/T2w_8to5.nii.gz\n",
      "Cropping /projects/datasets/dHCP/Data/sub-CC00314XX09_ses-100101/mri/aseg.TestingSetRerun_FastSurferVINN_T2_10NN05_T2_LatentAug_full.mgz\n",
      "Cropping /projects/datasets/dHCP/Data/sub-CC00314XX09_ses-100101/mri/aseg.TestingSetRerun_FastSurferVINN_T2_08NN05_T2_LatentAug_full.mgz\n",
      "Cropping /projects/datasets/dHCP/Data/sub-CC00314XX09_ses-100101/T2w_1to8.nii.gz\n",
      "Cropping /projects/datasets/dHCP/Data/sub-CC00314XX09_ses-100101/mri/aseg.TestingSetRerun_FastSurferVINN_T2_10NN08_T2_LatentAug_full.mgz\n",
      "Cropping /projects/datasets/dHCP/Data/sub-CC00244XX14_ses-81200/T2w_1to5.nii.gz\n",
      "Cropping /projects/datasets/dHCP/Data/sub-CC00244XX14_ses-81200/T2w_8to5.nii.gz\n",
      "Cropping /projects/datasets/dHCP/Data/sub-CC00244XX14_ses-81200/mri/aseg.TestingSetRerun_FastSurferVINN_T2_10NN05_T2_LatentAug_full.mgz\n",
      "Cropping /projects/datasets/dHCP/Data/sub-CC00244XX14_ses-81200/mri/aseg.TestingSetRerun_FastSurferVINN_T2_08NN05_T2_LatentAug_full.mgz\n",
      "Cropping /projects/datasets/dHCP/Data/sub-CC00244XX14_ses-81200/T2w_1to8.nii.gz\n",
      "Cropping /projects/datasets/dHCP/Data/sub-CC00244XX14_ses-81200/mri/aseg.TestingSetRerun_FastSurferVINN_T2_10NN08_T2_LatentAug_full.mgz\n",
      "Cropping /projects/datasets/dHCP/Data/sub-CC00094AN13_ses-33500/T2w_1to5.nii.gz\n",
      "Cropping /projects/datasets/dHCP/Data/sub-CC00094AN13_ses-33500/T2w_8to5.nii.gz\n",
      "Cropping /projects/datasets/dHCP/Data/sub-CC00094AN13_ses-33500/mri/aseg.TestingSetRerun_FastSurferVINN_T2_10NN05_T2_LatentAug_full.mgz\n",
      "Cropping /projects/datasets/dHCP/Data/sub-CC00094AN13_ses-33500/mri/aseg.TestingSetRerun_FastSurferVINN_T2_08NN05_T2_LatentAug_full.mgz\n",
      "Processing failed on sub-CC00094AN13_ses-33500: No such file or no access: '/projects/datasets/dHCP/Data/sub-CC00094AN13_ses-33500/mri/aseg.TestingSetRerun_FastSurferVINN_T2_08NN05_T2_LatentAug_full.mgz'\n",
      "Cropping /projects/datasets/dHCP/Data/sub-CC00094AN13_ses-33500/T2w_1to8.nii.gz\n",
      "Cropping /projects/datasets/dHCP/Data/sub-CC00094AN13_ses-33500/mri/aseg.TestingSetRerun_FastSurferVINN_T2_10NN08_T2_LatentAug_full.mgz\n",
      "Cropping /projects/datasets/dHCP/Data/sub-CC00105XX06_ses-35801/T2w_1to5.nii.gz\n",
      "Cropping /projects/datasets/dHCP/Data/sub-CC00105XX06_ses-35801/T2w_8to5.nii.gz\n",
      "Cropping /projects/datasets/dHCP/Data/sub-CC00105XX06_ses-35801/mri/aseg.TestingSetRerun_FastSurferVINN_T2_10NN05_T2_LatentAug_full.mgz\n",
      "Cropping /projects/datasets/dHCP/Data/sub-CC00105XX06_ses-35801/mri/aseg.TestingSetRerun_FastSurferVINN_T2_08NN05_T2_LatentAug_full.mgz\n",
      "Cropping /projects/datasets/dHCP/Data/sub-CC00105XX06_ses-35801/T2w_1to8.nii.gz\n",
      "Cropping /projects/datasets/dHCP/Data/sub-CC00105XX06_ses-35801/mri/aseg.TestingSetRerun_FastSurferVINN_T2_10NN08_T2_LatentAug_full.mgz\n",
      "Cropping /projects/datasets/dHCP/Data/sub-CC00284AN13_ses-111400/T2w_1to5.nii.gz\n",
      "Cropping /projects/datasets/dHCP/Data/sub-CC00284AN13_ses-111400/T2w_8to5.nii.gz\n",
      "Cropping /projects/datasets/dHCP/Data/sub-CC00284AN13_ses-111400/mri/aseg.TestingSetRerun_FastSurferVINN_T2_10NN05_T2_LatentAug_full.mgz\n",
      "Cropping /projects/datasets/dHCP/Data/sub-CC00284AN13_ses-111400/mri/aseg.TestingSetRerun_FastSurferVINN_T2_08NN05_T2_LatentAug_full.mgz\n",
      "Cropping /projects/datasets/dHCP/Data/sub-CC00284AN13_ses-111400/T2w_1to8.nii.gz\n",
      "Cropping /projects/datasets/dHCP/Data/sub-CC00284AN13_ses-111400/mri/aseg.TestingSetRerun_FastSurferVINN_T2_10NN08_T2_LatentAug_full.mgz\n",
      "Cropping /projects/datasets/dHCP/Data/sub-CC00525XX14_ses-165900/T2w_1to5.nii.gz\n",
      "Cropping /projects/datasets/dHCP/Data/sub-CC00525XX14_ses-165900/T2w_8to5.nii.gz\n",
      "Cropping /projects/datasets/dHCP/Data/sub-CC00525XX14_ses-165900/mri/aseg.TestingSetRerun_FastSurferVINN_T2_10NN05_T2_LatentAug_full.mgz\n",
      "Cropping /projects/datasets/dHCP/Data/sub-CC00525XX14_ses-165900/mri/aseg.TestingSetRerun_FastSurferVINN_T2_08NN05_T2_LatentAug_full.mgz\n",
      "Cropping /projects/datasets/dHCP/Data/sub-CC00525XX14_ses-165900/T2w_1to8.nii.gz\n",
      "Cropping /projects/datasets/dHCP/Data/sub-CC00525XX14_ses-165900/mri/aseg.TestingSetRerun_FastSurferVINN_T2_10NN08_T2_LatentAug_full.mgz\n",
      "Cropping /projects/datasets/dHCP/Data/sub-CC00325XX12_ses-103900/T2w_1to5.nii.gz\n",
      "Cropping /projects/datasets/dHCP/Data/sub-CC00325XX12_ses-103900/T2w_8to5.nii.gz\n",
      "Cropping /projects/datasets/dHCP/Data/sub-CC00325XX12_ses-103900/mri/aseg.TestingSetRerun_FastSurferVINN_T2_10NN05_T2_LatentAug_full.mgz\n",
      "Cropping /projects/datasets/dHCP/Data/sub-CC00325XX12_ses-103900/mri/aseg.TestingSetRerun_FastSurferVINN_T2_08NN05_T2_LatentAug_full.mgz\n",
      "Cropping /projects/datasets/dHCP/Data/sub-CC00325XX12_ses-103900/T2w_1to8.nii.gz\n",
      "Cropping /projects/datasets/dHCP/Data/sub-CC00325XX12_ses-103900/mri/aseg.TestingSetRerun_FastSurferVINN_T2_10NN08_T2_LatentAug_full.mgz\n",
      "Cropping /projects/datasets/dHCP/Data/sub-CC00600XX06_ses-175800/T2w_1to5.nii.gz\n",
      "Cropping /projects/datasets/dHCP/Data/sub-CC00600XX06_ses-175800/T2w_8to5.nii.gz\n",
      "Cropping /projects/datasets/dHCP/Data/sub-CC00600XX06_ses-175800/mri/aseg.TestingSetRerun_FastSurferVINN_T2_10NN05_T2_LatentAug_full.mgz\n",
      "Cropping /projects/datasets/dHCP/Data/sub-CC00600XX06_ses-175800/mri/aseg.TestingSetRerun_FastSurferVINN_T2_08NN05_T2_LatentAug_full.mgz\n",
      "Cropping /projects/datasets/dHCP/Data/sub-CC00600XX06_ses-175800/T2w_1to8.nii.gz\n",
      "Cropping /projects/datasets/dHCP/Data/sub-CC00600XX06_ses-175800/mri/aseg.TestingSetRerun_FastSurferVINN_T2_10NN08_T2_LatentAug_full.mgz\n",
      "Cropping /projects/datasets/dHCP/Data/sub-CC00957XX17_ses-43130/T2w_1to5.nii.gz\n",
      "Cropping /projects/datasets/dHCP/Data/sub-CC00957XX17_ses-43130/T2w_8to5.nii.gz\n",
      "Cropping /projects/datasets/dHCP/Data/sub-CC00957XX17_ses-43130/mri/aseg.TestingSetRerun_FastSurferVINN_T2_10NN05_T2_LatentAug_full.mgz\n",
      "Cropping /projects/datasets/dHCP/Data/sub-CC00957XX17_ses-43130/mri/aseg.TestingSetRerun_FastSurferVINN_T2_08NN05_T2_LatentAug_full.mgz\n",
      "Cropping /projects/datasets/dHCP/Data/sub-CC00957XX17_ses-43130/T2w_1to8.nii.gz\n",
      "Cropping /projects/datasets/dHCP/Data/sub-CC00957XX17_ses-43130/mri/aseg.TestingSetRerun_FastSurferVINN_T2_10NN08_T2_LatentAug_full.mgz\n",
      "Cropping /projects/datasets/dHCP/Data/sub-CC01044XX14_ses-72531/T2w_1to5.nii.gz\n",
      "Cropping /projects/datasets/dHCP/Data/sub-CC01044XX14_ses-72531/T2w_8to5.nii.gz\n",
      "Cropping /projects/datasets/dHCP/Data/sub-CC01044XX14_ses-72531/mri/aseg.TestingSetRerun_FastSurferVINN_T2_10NN05_T2_LatentAug_full.mgz\n"
     ]
    },
    {
     "name": "stdout",
     "output_type": "stream",
     "text": [
      "Cropping /projects/datasets/dHCP/Data/sub-CC01044XX14_ses-72531/mri/aseg.TestingSetRerun_FastSurferVINN_T2_08NN05_T2_LatentAug_full.mgz\n",
      "Cropping /projects/datasets/dHCP/Data/sub-CC01044XX14_ses-72531/T2w_1to8.nii.gz\n",
      "Cropping /projects/datasets/dHCP/Data/sub-CC01044XX14_ses-72531/mri/aseg.TestingSetRerun_FastSurferVINN_T2_10NN08_T2_LatentAug_full.mgz\n",
      "Cropping /projects/datasets/dHCP/Data/sub-CC00441XX13_ses-132902/T2w_1to5.nii.gz\n",
      "Cropping /projects/datasets/dHCP/Data/sub-CC00441XX13_ses-132902/T2w_8to5.nii.gz\n",
      "Cropping /projects/datasets/dHCP/Data/sub-CC00441XX13_ses-132902/mri/aseg.TestingSetRerun_FastSurferVINN_T2_10NN05_T2_LatentAug_full.mgz\n",
      "Cropping /projects/datasets/dHCP/Data/sub-CC00441XX13_ses-132902/mri/aseg.TestingSetRerun_FastSurferVINN_T2_08NN05_T2_LatentAug_full.mgz\n",
      "Cropping /projects/datasets/dHCP/Data/sub-CC00441XX13_ses-132902/T2w_1to8.nii.gz\n",
      "Cropping /projects/datasets/dHCP/Data/sub-CC00441XX13_ses-132902/mri/aseg.TestingSetRerun_FastSurferVINN_T2_10NN08_T2_LatentAug_full.mgz\n",
      "Cropping /projects/datasets/dHCP/Data/sub-CC00395XX17_ses-121300/T2w_1to5.nii.gz\n",
      "Cropping /projects/datasets/dHCP/Data/sub-CC00395XX17_ses-121300/T2w_8to5.nii.gz\n",
      "Cropping /projects/datasets/dHCP/Data/sub-CC00395XX17_ses-121300/mri/aseg.TestingSetRerun_FastSurferVINN_T2_10NN05_T2_LatentAug_full.mgz\n",
      "Cropping /projects/datasets/dHCP/Data/sub-CC00395XX17_ses-121300/mri/aseg.TestingSetRerun_FastSurferVINN_T2_08NN05_T2_LatentAug_full.mgz\n",
      "Cropping /projects/datasets/dHCP/Data/sub-CC00395XX17_ses-121300/T2w_1to8.nii.gz\n",
      "Cropping /projects/datasets/dHCP/Data/sub-CC00395XX17_ses-121300/mri/aseg.TestingSetRerun_FastSurferVINN_T2_10NN08_T2_LatentAug_full.mgz\n",
      "Cropping /projects/datasets/dHCP/Data/sub-CC00177XX13_ses-58500/T2w_1to5.nii.gz\n",
      "Cropping /projects/datasets/dHCP/Data/sub-CC00177XX13_ses-58500/T2w_8to5.nii.gz\n",
      "Cropping /projects/datasets/dHCP/Data/sub-CC00177XX13_ses-58500/mri/aseg.TestingSetRerun_FastSurferVINN_T2_10NN05_T2_LatentAug_full.mgz\n",
      "Cropping /projects/datasets/dHCP/Data/sub-CC00177XX13_ses-58500/mri/aseg.TestingSetRerun_FastSurferVINN_T2_08NN05_T2_LatentAug_full.mgz\n",
      "Cropping /projects/datasets/dHCP/Data/sub-CC00177XX13_ses-58500/T2w_1to8.nii.gz\n",
      "Cropping /projects/datasets/dHCP/Data/sub-CC00177XX13_ses-58500/mri/aseg.TestingSetRerun_FastSurferVINN_T2_10NN08_T2_LatentAug_full.mgz\n",
      "Cropping /projects/datasets/dHCP/Data/sub-CC00415XX11_ses-127400/T2w_1to5.nii.gz\n",
      "Cropping /projects/datasets/dHCP/Data/sub-CC00415XX11_ses-127400/T2w_8to5.nii.gz\n",
      "Cropping /projects/datasets/dHCP/Data/sub-CC00415XX11_ses-127400/mri/aseg.TestingSetRerun_FastSurferVINN_T2_10NN05_T2_LatentAug_full.mgz\n",
      "Cropping /projects/datasets/dHCP/Data/sub-CC00415XX11_ses-127400/mri/aseg.TestingSetRerun_FastSurferVINN_T2_08NN05_T2_LatentAug_full.mgz\n",
      "Cropping /projects/datasets/dHCP/Data/sub-CC00415XX11_ses-127400/T2w_1to8.nii.gz\n",
      "Cropping /projects/datasets/dHCP/Data/sub-CC00415XX11_ses-127400/mri/aseg.TestingSetRerun_FastSurferVINN_T2_10NN08_T2_LatentAug_full.mgz\n",
      "Cropping /projects/datasets/dHCP/Data/sub-CC00838XX22_ses-30610/T2w_1to5.nii.gz\n",
      "Cropping /projects/datasets/dHCP/Data/sub-CC00838XX22_ses-30610/T2w_8to5.nii.gz\n",
      "Cropping /projects/datasets/dHCP/Data/sub-CC00838XX22_ses-30610/mri/aseg.TestingSetRerun_FastSurferVINN_T2_10NN05_T2_LatentAug_full.mgz\n",
      "Cropping /projects/datasets/dHCP/Data/sub-CC00838XX22_ses-30610/mri/aseg.TestingSetRerun_FastSurferVINN_T2_08NN05_T2_LatentAug_full.mgz\n",
      "Cropping /projects/datasets/dHCP/Data/sub-CC00838XX22_ses-30610/T2w_1to8.nii.gz\n",
      "Cropping /projects/datasets/dHCP/Data/sub-CC00838XX22_ses-30610/mri/aseg.TestingSetRerun_FastSurferVINN_T2_10NN08_T2_LatentAug_full.mgz\n",
      "Cropping /projects/datasets/dHCP/Data/sub-CC01117XX12_ses-84730/T2w_1to5.nii.gz\n",
      "Cropping /projects/datasets/dHCP/Data/sub-CC01117XX12_ses-84730/T2w_8to5.nii.gz\n",
      "Cropping /projects/datasets/dHCP/Data/sub-CC01117XX12_ses-84730/mri/aseg.TestingSetRerun_FastSurferVINN_T2_10NN05_T2_LatentAug_full.mgz\n",
      "Cropping /projects/datasets/dHCP/Data/sub-CC01117XX12_ses-84730/mri/aseg.TestingSetRerun_FastSurferVINN_T2_08NN05_T2_LatentAug_full.mgz\n",
      "Cropping /projects/datasets/dHCP/Data/sub-CC01117XX12_ses-84730/T2w_1to8.nii.gz\n",
      "Cropping /projects/datasets/dHCP/Data/sub-CC01117XX12_ses-84730/mri/aseg.TestingSetRerun_FastSurferVINN_T2_10NN08_T2_LatentAug_full.mgz\n",
      "Cropping /projects/datasets/dHCP/Data/sub-CC01103XX06_ses-101930/T2w_1to5.nii.gz\n",
      "Cropping /projects/datasets/dHCP/Data/sub-CC01103XX06_ses-101930/T2w_8to5.nii.gz\n",
      "Cropping /projects/datasets/dHCP/Data/sub-CC01103XX06_ses-101930/mri/aseg.TestingSetRerun_FastSurferVINN_T2_10NN05_T2_LatentAug_full.mgz\n",
      "Cropping /projects/datasets/dHCP/Data/sub-CC01103XX06_ses-101930/mri/aseg.TestingSetRerun_FastSurferVINN_T2_08NN05_T2_LatentAug_full.mgz\n",
      "Processing failed on sub-CC01103XX06_ses-101930: No such file or no access: '/projects/datasets/dHCP/Data/sub-CC01103XX06_ses-101930/mri/aseg.TestingSetRerun_FastSurferVINN_T2_08NN05_T2_LatentAug_full.mgz'\n",
      "Cropping /projects/datasets/dHCP/Data/sub-CC01103XX06_ses-101930/T2w_1to8.nii.gz\n",
      "Cropping /projects/datasets/dHCP/Data/sub-CC01103XX06_ses-101930/mri/aseg.TestingSetRerun_FastSurferVINN_T2_10NN08_T2_LatentAug_full.mgz\n",
      "Cropping /projects/datasets/dHCP/Data/sub-CC00155XX07_ses-51300/T2w_1to5.nii.gz\n",
      "Cropping /projects/datasets/dHCP/Data/sub-CC00155XX07_ses-51300/T2w_8to5.nii.gz\n",
      "Cropping /projects/datasets/dHCP/Data/sub-CC00155XX07_ses-51300/mri/aseg.TestingSetRerun_FastSurferVINN_T2_10NN05_T2_LatentAug_full.mgz\n",
      "Cropping /projects/datasets/dHCP/Data/sub-CC00155XX07_ses-51300/mri/aseg.TestingSetRerun_FastSurferVINN_T2_08NN05_T2_LatentAug_full.mgz\n",
      "Cropping /projects/datasets/dHCP/Data/sub-CC00155XX07_ses-51300/T2w_1to8.nii.gz\n",
      "Cropping /projects/datasets/dHCP/Data/sub-CC00155XX07_ses-51300/mri/aseg.TestingSetRerun_FastSurferVINN_T2_10NN08_T2_LatentAug_full.mgz\n",
      "Cropping /projects/datasets/dHCP/Data/sub-CC01229XX17_ses-155630/T2w_1to5.nii.gz\n",
      "Cropping /projects/datasets/dHCP/Data/sub-CC01229XX17_ses-155630/T2w_8to5.nii.gz\n",
      "Cropping /projects/datasets/dHCP/Data/sub-CC01229XX17_ses-155630/mri/aseg.TestingSetRerun_FastSurferVINN_T2_10NN05_T2_LatentAug_full.mgz\n",
      "Cropping /projects/datasets/dHCP/Data/sub-CC01229XX17_ses-155630/mri/aseg.TestingSetRerun_FastSurferVINN_T2_08NN05_T2_LatentAug_full.mgz\n",
      "Processing failed on sub-CC01229XX17_ses-155630: No such file or no access: '/projects/datasets/dHCP/Data/sub-CC01229XX17_ses-155630/mri/aseg.TestingSetRerun_FastSurferVINN_T2_08NN05_T2_LatentAug_full.mgz'\n",
      "Cropping /projects/datasets/dHCP/Data/sub-CC01229XX17_ses-155630/T2w_1to8.nii.gz\n",
      "Cropping /projects/datasets/dHCP/Data/sub-CC01229XX17_ses-155630/mri/aseg.TestingSetRerun_FastSurferVINN_T2_10NN08_T2_LatentAug_full.mgz\n",
      "Cropping /projects/datasets/dHCP/Data/sub-CC00529BN18_ses-151200/T2w_1to5.nii.gz\n",
      "Cropping /projects/datasets/dHCP/Data/sub-CC00529BN18_ses-151200/T2w_8to5.nii.gz\n",
      "Cropping /projects/datasets/dHCP/Data/sub-CC00529BN18_ses-151200/mri/aseg.TestingSetRerun_FastSurferVINN_T2_10NN05_T2_LatentAug_full.mgz\n",
      "Cropping /projects/datasets/dHCP/Data/sub-CC00529BN18_ses-151200/mri/aseg.TestingSetRerun_FastSurferVINN_T2_08NN05_T2_LatentAug_full.mgz\n",
      "Cropping /projects/datasets/dHCP/Data/sub-CC00529BN18_ses-151200/T2w_1to8.nii.gz\n",
      "Cropping /projects/datasets/dHCP/Data/sub-CC00529BN18_ses-151200/mri/aseg.TestingSetRerun_FastSurferVINN_T2_10NN08_T2_LatentAug_full.mgz\n",
      "Cropping /projects/datasets/dHCP/Data/sub-CC00829XX21_ses-17610/T2w_1to5.nii.gz\n",
      "Cropping /projects/datasets/dHCP/Data/sub-CC00829XX21_ses-17610/T2w_8to5.nii.gz\n",
      "Cropping /projects/datasets/dHCP/Data/sub-CC00829XX21_ses-17610/mri/aseg.TestingSetRerun_FastSurferVINN_T2_10NN05_T2_LatentAug_full.mgz\n",
      "Cropping /projects/datasets/dHCP/Data/sub-CC00829XX21_ses-17610/mri/aseg.TestingSetRerun_FastSurferVINN_T2_08NN05_T2_LatentAug_full.mgz\n",
      "Cropping /projects/datasets/dHCP/Data/sub-CC00829XX21_ses-17610/T2w_1to8.nii.gz\n",
      "Cropping /projects/datasets/dHCP/Data/sub-CC00829XX21_ses-17610/mri/aseg.TestingSetRerun_FastSurferVINN_T2_10NN08_T2_LatentAug_full.mgz\n",
      "Cropping /projects/datasets/dHCP/Data/sub-CC00203XX05_ses-69500/T2w_1to5.nii.gz\n",
      "Cropping /projects/datasets/dHCP/Data/sub-CC00203XX05_ses-69500/T2w_8to5.nii.gz\n",
      "Cropping /projects/datasets/dHCP/Data/sub-CC00203XX05_ses-69500/mri/aseg.TestingSetRerun_FastSurferVINN_T2_10NN05_T2_LatentAug_full.mgz\n"
     ]
    },
    {
     "name": "stdout",
     "output_type": "stream",
     "text": [
      "Cropping /projects/datasets/dHCP/Data/sub-CC00203XX05_ses-69500/mri/aseg.TestingSetRerun_FastSurferVINN_T2_08NN05_T2_LatentAug_full.mgz\n",
      "Cropping /projects/datasets/dHCP/Data/sub-CC00203XX05_ses-69500/T2w_1to8.nii.gz\n",
      "Cropping /projects/datasets/dHCP/Data/sub-CC00203XX05_ses-69500/mri/aseg.TestingSetRerun_FastSurferVINN_T2_10NN08_T2_LatentAug_full.mgz\n",
      "Cropping /projects/datasets/dHCP/Data/sub-CC00422XX10_ses-127800/T2w_1to5.nii.gz\n",
      "Cropping /projects/datasets/dHCP/Data/sub-CC00422XX10_ses-127800/T2w_8to5.nii.gz\n",
      "Cropping /projects/datasets/dHCP/Data/sub-CC00422XX10_ses-127800/mri/aseg.TestingSetRerun_FastSurferVINN_T2_10NN05_T2_LatentAug_full.mgz\n",
      "Cropping /projects/datasets/dHCP/Data/sub-CC00422XX10_ses-127800/mri/aseg.TestingSetRerun_FastSurferVINN_T2_08NN05_T2_LatentAug_full.mgz\n",
      "Cropping /projects/datasets/dHCP/Data/sub-CC00422XX10_ses-127800/T2w_1to8.nii.gz\n",
      "Cropping /projects/datasets/dHCP/Data/sub-CC00422XX10_ses-127800/mri/aseg.TestingSetRerun_FastSurferVINN_T2_10NN08_T2_LatentAug_full.mgz\n",
      "Cropping /projects/datasets/dHCP/Data/sub-CC00135AN12_ses-44900/T2w_1to5.nii.gz\n",
      "Cropping /projects/datasets/dHCP/Data/sub-CC00135AN12_ses-44900/T2w_8to5.nii.gz\n",
      "Cropping /projects/datasets/dHCP/Data/sub-CC00135AN12_ses-44900/mri/aseg.TestingSetRerun_FastSurferVINN_T2_10NN05_T2_LatentAug_full.mgz\n",
      "Cropping /projects/datasets/dHCP/Data/sub-CC00135AN12_ses-44900/mri/aseg.TestingSetRerun_FastSurferVINN_T2_08NN05_T2_LatentAug_full.mgz\n",
      "Cropping /projects/datasets/dHCP/Data/sub-CC00135AN12_ses-44900/T2w_1to8.nii.gz\n",
      "Cropping /projects/datasets/dHCP/Data/sub-CC00135AN12_ses-44900/mri/aseg.TestingSetRerun_FastSurferVINN_T2_10NN08_T2_LatentAug_full.mgz\n",
      "Cropping /projects/datasets/dHCP/Data/sub-CC00462XX09_ses-134100/T2w_1to5.nii.gz\n",
      "Cropping /projects/datasets/dHCP/Data/sub-CC00462XX09_ses-134100/T2w_8to5.nii.gz\n",
      "Cropping /projects/datasets/dHCP/Data/sub-CC00462XX09_ses-134100/mri/aseg.TestingSetRerun_FastSurferVINN_T2_10NN05_T2_LatentAug_full.mgz\n",
      "Cropping /projects/datasets/dHCP/Data/sub-CC00462XX09_ses-134100/mri/aseg.TestingSetRerun_FastSurferVINN_T2_08NN05_T2_LatentAug_full.mgz\n",
      "Cropping /projects/datasets/dHCP/Data/sub-CC00462XX09_ses-134100/T2w_1to8.nii.gz\n",
      "Cropping /projects/datasets/dHCP/Data/sub-CC00462XX09_ses-134100/mri/aseg.TestingSetRerun_FastSurferVINN_T2_10NN08_T2_LatentAug_full.mgz\n",
      "Cropping /projects/datasets/dHCP/Data/sub-CC00894XX21_ses-3020/T2w_1to5.nii.gz\n",
      "Cropping /projects/datasets/dHCP/Data/sub-CC00894XX21_ses-3020/T2w_8to5.nii.gz\n",
      "Cropping /projects/datasets/dHCP/Data/sub-CC00894XX21_ses-3020/mri/aseg.TestingSetRerun_FastSurferVINN_T2_10NN05_T2_LatentAug_full.mgz\n",
      "Cropping /projects/datasets/dHCP/Data/sub-CC00894XX21_ses-3020/mri/aseg.TestingSetRerun_FastSurferVINN_T2_08NN05_T2_LatentAug_full.mgz\n",
      "Cropping /projects/datasets/dHCP/Data/sub-CC00894XX21_ses-3020/T2w_1to8.nii.gz\n",
      "Cropping /projects/datasets/dHCP/Data/sub-CC00894XX21_ses-3020/mri/aseg.TestingSetRerun_FastSurferVINN_T2_10NN08_T2_LatentAug_full.mgz\n",
      "Cropping /projects/datasets/dHCP/Data/sub-CC01209XX13_ses-144830/T2w_1to5.nii.gz\n",
      "Cropping /projects/datasets/dHCP/Data/sub-CC01209XX13_ses-144830/T2w_8to5.nii.gz\n",
      "Cropping /projects/datasets/dHCP/Data/sub-CC01209XX13_ses-144830/mri/aseg.TestingSetRerun_FastSurferVINN_T2_10NN05_T2_LatentAug_full.mgz\n",
      "Cropping /projects/datasets/dHCP/Data/sub-CC01209XX13_ses-144830/mri/aseg.TestingSetRerun_FastSurferVINN_T2_08NN05_T2_LatentAug_full.mgz\n",
      "Cropping /projects/datasets/dHCP/Data/sub-CC01209XX13_ses-144830/T2w_1to8.nii.gz\n",
      "Cropping /projects/datasets/dHCP/Data/sub-CC01209XX13_ses-144830/mri/aseg.TestingSetRerun_FastSurferVINN_T2_10NN08_T2_LatentAug_full.mgz\n",
      "Cropping /projects/datasets/dHCP/Data/sub-CC00257XX10_ses-84700/T2w_1to5.nii.gz\n",
      "Cropping /projects/datasets/dHCP/Data/sub-CC00257XX10_ses-84700/T2w_8to5.nii.gz\n",
      "Cropping /projects/datasets/dHCP/Data/sub-CC00257XX10_ses-84700/mri/aseg.TestingSetRerun_FastSurferVINN_T2_10NN05_T2_LatentAug_full.mgz\n",
      "Cropping /projects/datasets/dHCP/Data/sub-CC00257XX10_ses-84700/mri/aseg.TestingSetRerun_FastSurferVINN_T2_08NN05_T2_LatentAug_full.mgz\n",
      "Cropping /projects/datasets/dHCP/Data/sub-CC00257XX10_ses-84700/T2w_1to8.nii.gz\n",
      "Cropping /projects/datasets/dHCP/Data/sub-CC00257XX10_ses-84700/mri/aseg.TestingSetRerun_FastSurferVINN_T2_10NN08_T2_LatentAug_full.mgz\n",
      "Cropping /projects/datasets/dHCP/Data/sub-CC00095XX14_ses-33501/T2w_1to5.nii.gz\n",
      "Cropping /projects/datasets/dHCP/Data/sub-CC00095XX14_ses-33501/T2w_8to5.nii.gz\n",
      "Cropping /projects/datasets/dHCP/Data/sub-CC00095XX14_ses-33501/mri/aseg.TestingSetRerun_FastSurferVINN_T2_10NN05_T2_LatentAug_full.mgz\n",
      "Cropping /projects/datasets/dHCP/Data/sub-CC00095XX14_ses-33501/mri/aseg.TestingSetRerun_FastSurferVINN_T2_08NN05_T2_LatentAug_full.mgz\n",
      "Cropping /projects/datasets/dHCP/Data/sub-CC00095XX14_ses-33501/T2w_1to8.nii.gz\n",
      "Cropping /projects/datasets/dHCP/Data/sub-CC00095XX14_ses-33501/mri/aseg.TestingSetRerun_FastSurferVINN_T2_10NN08_T2_LatentAug_full.mgz\n",
      "Cropping /projects/datasets/dHCP/Data/sub-CC00719XX18_ses-210600/T2w_1to5.nii.gz\n",
      "Cropping /projects/datasets/dHCP/Data/sub-CC00719XX18_ses-210600/T2w_8to5.nii.gz\n",
      "Cropping /projects/datasets/dHCP/Data/sub-CC00719XX18_ses-210600/mri/aseg.TestingSetRerun_FastSurferVINN_T2_10NN05_T2_LatentAug_full.mgz\n",
      "Cropping /projects/datasets/dHCP/Data/sub-CC00719XX18_ses-210600/mri/aseg.TestingSetRerun_FastSurferVINN_T2_08NN05_T2_LatentAug_full.mgz\n",
      "Cropping /projects/datasets/dHCP/Data/sub-CC00719XX18_ses-210600/T2w_1to8.nii.gz\n",
      "Cropping /projects/datasets/dHCP/Data/sub-CC00719XX18_ses-210600/mri/aseg.TestingSetRerun_FastSurferVINN_T2_10NN08_T2_LatentAug_full.mgz\n",
      "Cropping /projects/datasets/dHCP/Data/sub-CC01041XX11_ses-81131/T2w_1to5.nii.gz\n",
      "Cropping /projects/datasets/dHCP/Data/sub-CC01041XX11_ses-81131/T2w_8to5.nii.gz\n",
      "Cropping /projects/datasets/dHCP/Data/sub-CC01041XX11_ses-81131/mri/aseg.TestingSetRerun_FastSurferVINN_T2_10NN05_T2_LatentAug_full.mgz\n",
      "Cropping /projects/datasets/dHCP/Data/sub-CC01041XX11_ses-81131/mri/aseg.TestingSetRerun_FastSurferVINN_T2_08NN05_T2_LatentAug_full.mgz\n",
      "Cropping /projects/datasets/dHCP/Data/sub-CC01041XX11_ses-81131/T2w_1to8.nii.gz\n",
      "Cropping /projects/datasets/dHCP/Data/sub-CC01041XX11_ses-81131/mri/aseg.TestingSetRerun_FastSurferVINN_T2_10NN08_T2_LatentAug_full.mgz\n",
      "Cropping /projects/datasets/dHCP/Data/sub-CC00207XX09_ses-88700/T2w_1to5.nii.gz\n",
      "Cropping /projects/datasets/dHCP/Data/sub-CC00207XX09_ses-88700/T2w_8to5.nii.gz\n",
      "Cropping /projects/datasets/dHCP/Data/sub-CC00207XX09_ses-88700/mri/aseg.TestingSetRerun_FastSurferVINN_T2_10NN05_T2_LatentAug_full.mgz\n",
      "Cropping /projects/datasets/dHCP/Data/sub-CC00207XX09_ses-88700/mri/aseg.TestingSetRerun_FastSurferVINN_T2_08NN05_T2_LatentAug_full.mgz\n",
      "Cropping /projects/datasets/dHCP/Data/sub-CC00207XX09_ses-88700/T2w_1to8.nii.gz\n",
      "Cropping /projects/datasets/dHCP/Data/sub-CC00207XX09_ses-88700/mri/aseg.TestingSetRerun_FastSurferVINN_T2_10NN08_T2_LatentAug_full.mgz\n",
      "Cropping /projects/datasets/dHCP/Data/sub-CC00785XX19_ses-240700/T2w_1to5.nii.gz\n",
      "Cropping /projects/datasets/dHCP/Data/sub-CC00785XX19_ses-240700/T2w_8to5.nii.gz\n",
      "Cropping /projects/datasets/dHCP/Data/sub-CC00785XX19_ses-240700/mri/aseg.TestingSetRerun_FastSurferVINN_T2_10NN05_T2_LatentAug_full.mgz\n",
      "Cropping /projects/datasets/dHCP/Data/sub-CC00785XX19_ses-240700/mri/aseg.TestingSetRerun_FastSurferVINN_T2_08NN05_T2_LatentAug_full.mgz\n",
      "Cropping /projects/datasets/dHCP/Data/sub-CC00785XX19_ses-240700/T2w_1to8.nii.gz\n",
      "Cropping /projects/datasets/dHCP/Data/sub-CC00785XX19_ses-240700/mri/aseg.TestingSetRerun_FastSurferVINN_T2_10NN08_T2_LatentAug_full.mgz\n",
      "Cropping /projects/datasets/dHCP/Data/sub-CC00843XX19_ses-4330/T2w_1to5.nii.gz\n",
      "Cropping /projects/datasets/dHCP/Data/sub-CC00843XX19_ses-4330/T2w_8to5.nii.gz\n",
      "Cropping /projects/datasets/dHCP/Data/sub-CC00843XX19_ses-4330/mri/aseg.TestingSetRerun_FastSurferVINN_T2_10NN05_T2_LatentAug_full.mgz\n",
      "Cropping /projects/datasets/dHCP/Data/sub-CC00843XX19_ses-4330/mri/aseg.TestingSetRerun_FastSurferVINN_T2_08NN05_T2_LatentAug_full.mgz\n",
      "Cropping /projects/datasets/dHCP/Data/sub-CC00843XX19_ses-4330/T2w_1to8.nii.gz\n",
      "Cropping /projects/datasets/dHCP/Data/sub-CC00843XX19_ses-4330/mri/aseg.TestingSetRerun_FastSurferVINN_T2_10NN08_T2_LatentAug_full.mgz\n",
      "Cropping /projects/datasets/dHCP/Data/sub-CC00135AN12_ses-54400/T2w_1to5.nii.gz\n"
     ]
    },
    {
     "name": "stdout",
     "output_type": "stream",
     "text": [
      "Cropping /projects/datasets/dHCP/Data/sub-CC00135AN12_ses-54400/T2w_8to5.nii.gz\n",
      "Cropping /projects/datasets/dHCP/Data/sub-CC00135AN12_ses-54400/mri/aseg.TestingSetRerun_FastSurferVINN_T2_10NN05_T2_LatentAug_full.mgz\n",
      "Cropping /projects/datasets/dHCP/Data/sub-CC00135AN12_ses-54400/mri/aseg.TestingSetRerun_FastSurferVINN_T2_08NN05_T2_LatentAug_full.mgz\n",
      "Cropping /projects/datasets/dHCP/Data/sub-CC00135AN12_ses-54400/T2w_1to8.nii.gz\n",
      "Cropping /projects/datasets/dHCP/Data/sub-CC00135AN12_ses-54400/mri/aseg.TestingSetRerun_FastSurferVINN_T2_10NN08_T2_LatentAug_full.mgz\n",
      "Cropping /projects/datasets/dHCP/Data/sub-CC01222XX10_ses-149231/T2w_1to5.nii.gz\n",
      "Cropping /projects/datasets/dHCP/Data/sub-CC01222XX10_ses-149231/T2w_8to5.nii.gz\n",
      "Cropping /projects/datasets/dHCP/Data/sub-CC01222XX10_ses-149231/mri/aseg.TestingSetRerun_FastSurferVINN_T2_10NN05_T2_LatentAug_full.mgz\n",
      "Cropping /projects/datasets/dHCP/Data/sub-CC01222XX10_ses-149231/mri/aseg.TestingSetRerun_FastSurferVINN_T2_08NN05_T2_LatentAug_full.mgz\n",
      "Cropping /projects/datasets/dHCP/Data/sub-CC01222XX10_ses-149231/T2w_1to8.nii.gz\n",
      "Cropping /projects/datasets/dHCP/Data/sub-CC01222XX10_ses-149231/mri/aseg.TestingSetRerun_FastSurferVINN_T2_10NN08_T2_LatentAug_full.mgz\n",
      "Cropping /projects/datasets/dHCP/Data/sub-CC00512XX09_ses-150700/T2w_1to5.nii.gz\n",
      "Cropping /projects/datasets/dHCP/Data/sub-CC00512XX09_ses-150700/T2w_8to5.nii.gz\n",
      "Cropping /projects/datasets/dHCP/Data/sub-CC00512XX09_ses-150700/mri/aseg.TestingSetRerun_FastSurferVINN_T2_10NN05_T2_LatentAug_full.mgz\n",
      "Cropping /projects/datasets/dHCP/Data/sub-CC00512XX09_ses-150700/mri/aseg.TestingSetRerun_FastSurferVINN_T2_08NN05_T2_LatentAug_full.mgz\n",
      "Cropping /projects/datasets/dHCP/Data/sub-CC00512XX09_ses-150700/T2w_1to8.nii.gz\n",
      "Cropping /projects/datasets/dHCP/Data/sub-CC00512XX09_ses-150700/mri/aseg.TestingSetRerun_FastSurferVINN_T2_10NN08_T2_LatentAug_full.mgz\n",
      "Cropping /projects/datasets/dHCP/Data/sub-CC00100XX01_ses-35000/T2w_1to5.nii.gz\n",
      "Cropping /projects/datasets/dHCP/Data/sub-CC00100XX01_ses-35000/T2w_8to5.nii.gz\n",
      "Cropping /projects/datasets/dHCP/Data/sub-CC00100XX01_ses-35000/mri/aseg.TestingSetRerun_FastSurferVINN_T2_10NN05_T2_LatentAug_full.mgz\n",
      "Cropping /projects/datasets/dHCP/Data/sub-CC00100XX01_ses-35000/mri/aseg.TestingSetRerun_FastSurferVINN_T2_08NN05_T2_LatentAug_full.mgz\n",
      "Cropping /projects/datasets/dHCP/Data/sub-CC00100XX01_ses-35000/T2w_1to8.nii.gz\n",
      "Cropping /projects/datasets/dHCP/Data/sub-CC00100XX01_ses-35000/mri/aseg.TestingSetRerun_FastSurferVINN_T2_10NN08_T2_LatentAug_full.mgz\n",
      "Cropping /projects/datasets/dHCP/Data/sub-CC00172BN08_ses-57300/T2w_1to5.nii.gz\n",
      "Cropping /projects/datasets/dHCP/Data/sub-CC00172BN08_ses-57300/T2w_8to5.nii.gz\n",
      "Cropping /projects/datasets/dHCP/Data/sub-CC00172BN08_ses-57300/mri/aseg.TestingSetRerun_FastSurferVINN_T2_10NN05_T2_LatentAug_full.mgz\n",
      "Cropping /projects/datasets/dHCP/Data/sub-CC00172BN08_ses-57300/mri/aseg.TestingSetRerun_FastSurferVINN_T2_08NN05_T2_LatentAug_full.mgz\n",
      "Cropping /projects/datasets/dHCP/Data/sub-CC00172BN08_ses-57300/T2w_1to8.nii.gz\n",
      "Cropping /projects/datasets/dHCP/Data/sub-CC00172BN08_ses-57300/mri/aseg.TestingSetRerun_FastSurferVINN_T2_10NN08_T2_LatentAug_full.mgz\n",
      "Cropping /projects/datasets/dHCP/Data/sub-CC00728AN19_ses-214100/T2w_1to5.nii.gz\n",
      "Cropping /projects/datasets/dHCP/Data/sub-CC00728AN19_ses-214100/T2w_8to5.nii.gz\n",
      "Cropping /projects/datasets/dHCP/Data/sub-CC00728AN19_ses-214100/mri/aseg.TestingSetRerun_FastSurferVINN_T2_10NN05_T2_LatentAug_full.mgz\n",
      "Cropping /projects/datasets/dHCP/Data/sub-CC00728AN19_ses-214100/mri/aseg.TestingSetRerun_FastSurferVINN_T2_08NN05_T2_LatentAug_full.mgz\n",
      "Cropping /projects/datasets/dHCP/Data/sub-CC00728AN19_ses-214100/T2w_1to8.nii.gz\n",
      "Cropping /projects/datasets/dHCP/Data/sub-CC00728AN19_ses-214100/mri/aseg.TestingSetRerun_FastSurferVINN_T2_10NN08_T2_LatentAug_full.mgz\n",
      "Cropping /projects/datasets/dHCP/Data/sub-CC00492BN15_ses-140800/T2w_1to5.nii.gz\n",
      "Cropping /projects/datasets/dHCP/Data/sub-CC00492BN15_ses-140800/T2w_8to5.nii.gz\n",
      "Cropping /projects/datasets/dHCP/Data/sub-CC00492BN15_ses-140800/mri/aseg.TestingSetRerun_FastSurferVINN_T2_10NN05_T2_LatentAug_full.mgz\n",
      "Cropping /projects/datasets/dHCP/Data/sub-CC00492BN15_ses-140800/mri/aseg.TestingSetRerun_FastSurferVINN_T2_08NN05_T2_LatentAug_full.mgz\n",
      "Cropping /projects/datasets/dHCP/Data/sub-CC00492BN15_ses-140800/T2w_1to8.nii.gz\n",
      "Cropping /projects/datasets/dHCP/Data/sub-CC00492BN15_ses-140800/mri/aseg.TestingSetRerun_FastSurferVINN_T2_10NN08_T2_LatentAug_full.mgz\n",
      "Cropping /projects/datasets/dHCP/Data/sub-CC00473XX12_ses-140100/T2w_1to5.nii.gz\n",
      "Cropping /projects/datasets/dHCP/Data/sub-CC00473XX12_ses-140100/T2w_8to5.nii.gz\n",
      "Cropping /projects/datasets/dHCP/Data/sub-CC00473XX12_ses-140100/mri/aseg.TestingSetRerun_FastSurferVINN_T2_10NN05_T2_LatentAug_full.mgz\n",
      "Cropping /projects/datasets/dHCP/Data/sub-CC00473XX12_ses-140100/mri/aseg.TestingSetRerun_FastSurferVINN_T2_08NN05_T2_LatentAug_full.mgz\n",
      "Cropping /projects/datasets/dHCP/Data/sub-CC00473XX12_ses-140100/T2w_1to8.nii.gz\n",
      "Cropping /projects/datasets/dHCP/Data/sub-CC00473XX12_ses-140100/mri/aseg.TestingSetRerun_FastSurferVINN_T2_10NN08_T2_LatentAug_full.mgz\n",
      "Cropping /projects/datasets/dHCP/Data/sub-CC00304XX07_ses-111600/T2w_1to5.nii.gz\n",
      "Cropping /projects/datasets/dHCP/Data/sub-CC00304XX07_ses-111600/T2w_8to5.nii.gz\n",
      "Cropping /projects/datasets/dHCP/Data/sub-CC00304XX07_ses-111600/mri/aseg.TestingSetRerun_FastSurferVINN_T2_10NN05_T2_LatentAug_full.mgz\n",
      "Cropping /projects/datasets/dHCP/Data/sub-CC00304XX07_ses-111600/mri/aseg.TestingSetRerun_FastSurferVINN_T2_08NN05_T2_LatentAug_full.mgz\n",
      "Cropping /projects/datasets/dHCP/Data/sub-CC00304XX07_ses-111600/T2w_1to8.nii.gz\n",
      "Cropping /projects/datasets/dHCP/Data/sub-CC00304XX07_ses-111600/mri/aseg.TestingSetRerun_FastSurferVINN_T2_10NN08_T2_LatentAug_full.mgz\n",
      "Cropping /projects/datasets/dHCP/Data/sub-CC00693XX18_ses-201000/T2w_1to5.nii.gz\n",
      "Cropping /projects/datasets/dHCP/Data/sub-CC00693XX18_ses-201000/T2w_8to5.nii.gz\n",
      "Cropping /projects/datasets/dHCP/Data/sub-CC00693XX18_ses-201000/mri/aseg.TestingSetRerun_FastSurferVINN_T2_10NN05_T2_LatentAug_full.mgz\n",
      "Cropping /projects/datasets/dHCP/Data/sub-CC00693XX18_ses-201000/mri/aseg.TestingSetRerun_FastSurferVINN_T2_08NN05_T2_LatentAug_full.mgz\n",
      "Processing failed on sub-CC00693XX18_ses-201000: No such file or no access: '/projects/datasets/dHCP/Data/sub-CC00693XX18_ses-201000/mri/aseg.TestingSetRerun_FastSurferVINN_T2_08NN05_T2_LatentAug_full.mgz'\n",
      "Cropping /projects/datasets/dHCP/Data/sub-CC00693XX18_ses-201000/T2w_1to8.nii.gz\n",
      "Cropping /projects/datasets/dHCP/Data/sub-CC00693XX18_ses-201000/mri/aseg.TestingSetRerun_FastSurferVINN_T2_10NN08_T2_LatentAug_full.mgz\n",
      "Cropping /projects/datasets/dHCP/Data/sub-CC00191XX11_ses-79600/T2w_1to5.nii.gz\n",
      "Cropping /projects/datasets/dHCP/Data/sub-CC00191XX11_ses-79600/T2w_8to5.nii.gz\n",
      "Cropping /projects/datasets/dHCP/Data/sub-CC00191XX11_ses-79600/mri/aseg.TestingSetRerun_FastSurferVINN_T2_10NN05_T2_LatentAug_full.mgz\n",
      "Cropping /projects/datasets/dHCP/Data/sub-CC00191XX11_ses-79600/mri/aseg.TestingSetRerun_FastSurferVINN_T2_08NN05_T2_LatentAug_full.mgz\n",
      "Cropping /projects/datasets/dHCP/Data/sub-CC00191XX11_ses-79600/T2w_1to8.nii.gz\n",
      "Cropping /projects/datasets/dHCP/Data/sub-CC00191XX11_ses-79600/mri/aseg.TestingSetRerun_FastSurferVINN_T2_10NN08_T2_LatentAug_full.mgz\n",
      "Cropping /projects/datasets/dHCP/Data/sub-CC01104XX07_ses-82830/T2w_1to5.nii.gz\n",
      "Cropping /projects/datasets/dHCP/Data/sub-CC01104XX07_ses-82830/T2w_8to5.nii.gz\n",
      "Cropping /projects/datasets/dHCP/Data/sub-CC01104XX07_ses-82830/mri/aseg.TestingSetRerun_FastSurferVINN_T2_10NN05_T2_LatentAug_full.mgz\n",
      "Cropping /projects/datasets/dHCP/Data/sub-CC01104XX07_ses-82830/mri/aseg.TestingSetRerun_FastSurferVINN_T2_08NN05_T2_LatentAug_full.mgz\n",
      "Cropping /projects/datasets/dHCP/Data/sub-CC01104XX07_ses-82830/T2w_1to8.nii.gz\n",
      "Cropping /projects/datasets/dHCP/Data/sub-CC01104XX07_ses-82830/mri/aseg.TestingSetRerun_FastSurferVINN_T2_10NN08_T2_LatentAug_full.mgz\n",
      "Cropping /projects/datasets/dHCP/Data/sub-CC00206XX08_ses-70100/T2w_1to5.nii.gz\n",
      "Cropping /projects/datasets/dHCP/Data/sub-CC00206XX08_ses-70100/T2w_8to5.nii.gz\n",
      "Cropping /projects/datasets/dHCP/Data/sub-CC00206XX08_ses-70100/mri/aseg.TestingSetRerun_FastSurferVINN_T2_10NN05_T2_LatentAug_full.mgz\n"
     ]
    },
    {
     "name": "stdout",
     "output_type": "stream",
     "text": [
      "Cropping /projects/datasets/dHCP/Data/sub-CC00206XX08_ses-70100/mri/aseg.TestingSetRerun_FastSurferVINN_T2_08NN05_T2_LatentAug_full.mgz\n",
      "Cropping /projects/datasets/dHCP/Data/sub-CC00206XX08_ses-70100/T2w_1to8.nii.gz\n",
      "Cropping /projects/datasets/dHCP/Data/sub-CC00206XX08_ses-70100/mri/aseg.TestingSetRerun_FastSurferVINN_T2_10NN08_T2_LatentAug_full.mgz\n",
      "Cropping /projects/datasets/dHCP/Data/sub-CC00124XX09_ses-42302/T2w_1to5.nii.gz\n",
      "Cropping /projects/datasets/dHCP/Data/sub-CC00124XX09_ses-42302/T2w_8to5.nii.gz\n",
      "Cropping /projects/datasets/dHCP/Data/sub-CC00124XX09_ses-42302/mri/aseg.TestingSetRerun_FastSurferVINN_T2_10NN05_T2_LatentAug_full.mgz\n",
      "Cropping /projects/datasets/dHCP/Data/sub-CC00124XX09_ses-42302/mri/aseg.TestingSetRerun_FastSurferVINN_T2_08NN05_T2_LatentAug_full.mgz\n",
      "Cropping /projects/datasets/dHCP/Data/sub-CC00124XX09_ses-42302/T2w_1to8.nii.gz\n",
      "Cropping /projects/datasets/dHCP/Data/sub-CC00124XX09_ses-42302/mri/aseg.TestingSetRerun_FastSurferVINN_T2_10NN08_T2_LatentAug_full.mgz\n",
      "Cropping /projects/datasets/dHCP/Data/sub-CC00987XX23_ses-66031/T2w_1to5.nii.gz\n",
      "Cropping /projects/datasets/dHCP/Data/sub-CC00987XX23_ses-66031/T2w_8to5.nii.gz\n",
      "Cropping /projects/datasets/dHCP/Data/sub-CC00987XX23_ses-66031/mri/aseg.TestingSetRerun_FastSurferVINN_T2_10NN05_T2_LatentAug_full.mgz\n",
      "Cropping /projects/datasets/dHCP/Data/sub-CC00987XX23_ses-66031/mri/aseg.TestingSetRerun_FastSurferVINN_T2_08NN05_T2_LatentAug_full.mgz\n",
      "Cropping /projects/datasets/dHCP/Data/sub-CC00987XX23_ses-66031/T2w_1to8.nii.gz\n",
      "Cropping /projects/datasets/dHCP/Data/sub-CC00987XX23_ses-66031/mri/aseg.TestingSetRerun_FastSurferVINN_T2_10NN08_T2_LatentAug_full.mgz\n",
      "Cropping /projects/datasets/dHCP/Data/sub-CC01011XX05_ses-42230/T2w_1to5.nii.gz\n",
      "Cropping /projects/datasets/dHCP/Data/sub-CC01011XX05_ses-42230/T2w_8to5.nii.gz\n",
      "Cropping /projects/datasets/dHCP/Data/sub-CC01011XX05_ses-42230/mri/aseg.TestingSetRerun_FastSurferVINN_T2_10NN05_T2_LatentAug_full.mgz\n",
      "Cropping /projects/datasets/dHCP/Data/sub-CC01011XX05_ses-42230/mri/aseg.TestingSetRerun_FastSurferVINN_T2_08NN05_T2_LatentAug_full.mgz\n",
      "Cropping /projects/datasets/dHCP/Data/sub-CC01011XX05_ses-42230/T2w_1to8.nii.gz\n",
      "Cropping /projects/datasets/dHCP/Data/sub-CC01011XX05_ses-42230/mri/aseg.TestingSetRerun_FastSurferVINN_T2_10NN08_T2_LatentAug_full.mgz\n",
      "Cropping /projects/datasets/dHCP/Data/sub-CC00284AN13_ses-90701/T2w_1to5.nii.gz\n",
      "Cropping /projects/datasets/dHCP/Data/sub-CC00284AN13_ses-90701/T2w_8to5.nii.gz\n",
      "Cropping /projects/datasets/dHCP/Data/sub-CC00284AN13_ses-90701/mri/aseg.TestingSetRerun_FastSurferVINN_T2_10NN05_T2_LatentAug_full.mgz\n",
      "Cropping /projects/datasets/dHCP/Data/sub-CC00284AN13_ses-90701/mri/aseg.TestingSetRerun_FastSurferVINN_T2_08NN05_T2_LatentAug_full.mgz\n",
      "Cropping /projects/datasets/dHCP/Data/sub-CC00284AN13_ses-90701/T2w_1to8.nii.gz\n",
      "Cropping /projects/datasets/dHCP/Data/sub-CC00284AN13_ses-90701/mri/aseg.TestingSetRerun_FastSurferVINN_T2_10NN08_T2_LatentAug_full.mgz\n",
      "Cropping /projects/datasets/dHCP/Data/sub-CC00418BN14_ses-130300/T2w_1to5.nii.gz\n",
      "Cropping /projects/datasets/dHCP/Data/sub-CC00418BN14_ses-130300/T2w_8to5.nii.gz\n",
      "Cropping /projects/datasets/dHCP/Data/sub-CC00418BN14_ses-130300/mri/aseg.TestingSetRerun_FastSurferVINN_T2_10NN05_T2_LatentAug_full.mgz\n",
      "Cropping /projects/datasets/dHCP/Data/sub-CC00418BN14_ses-130300/mri/aseg.TestingSetRerun_FastSurferVINN_T2_08NN05_T2_LatentAug_full.mgz\n",
      "Cropping /projects/datasets/dHCP/Data/sub-CC00418BN14_ses-130300/T2w_1to8.nii.gz\n",
      "Cropping /projects/datasets/dHCP/Data/sub-CC00418BN14_ses-130300/mri/aseg.TestingSetRerun_FastSurferVINN_T2_10NN08_T2_LatentAug_full.mgz\n",
      "Cropping /projects/datasets/dHCP/Data/sub-CC00245BN15_ses-82600/T2w_1to5.nii.gz\n",
      "Cropping /projects/datasets/dHCP/Data/sub-CC00245BN15_ses-82600/T2w_8to5.nii.gz\n",
      "Cropping /projects/datasets/dHCP/Data/sub-CC00245BN15_ses-82600/mri/aseg.TestingSetRerun_FastSurferVINN_T2_10NN05_T2_LatentAug_full.mgz\n",
      "Cropping /projects/datasets/dHCP/Data/sub-CC00245BN15_ses-82600/mri/aseg.TestingSetRerun_FastSurferVINN_T2_08NN05_T2_LatentAug_full.mgz\n",
      "Cropping /projects/datasets/dHCP/Data/sub-CC00245BN15_ses-82600/T2w_1to8.nii.gz\n",
      "Cropping /projects/datasets/dHCP/Data/sub-CC00245BN15_ses-82600/mri/aseg.TestingSetRerun_FastSurferVINN_T2_10NN08_T2_LatentAug_full.mgz\n",
      "Cropping /projects/datasets/dHCP/Data/sub-CC00621XX11_ses-177900/T2w_1to5.nii.gz\n",
      "Cropping /projects/datasets/dHCP/Data/sub-CC00621XX11_ses-177900/T2w_8to5.nii.gz\n",
      "Cropping /projects/datasets/dHCP/Data/sub-CC00621XX11_ses-177900/mri/aseg.TestingSetRerun_FastSurferVINN_T2_10NN05_T2_LatentAug_full.mgz\n",
      "Cropping /projects/datasets/dHCP/Data/sub-CC00621XX11_ses-177900/mri/aseg.TestingSetRerun_FastSurferVINN_T2_08NN05_T2_LatentAug_full.mgz\n",
      "Cropping /projects/datasets/dHCP/Data/sub-CC00621XX11_ses-177900/T2w_1to8.nii.gz\n",
      "Cropping /projects/datasets/dHCP/Data/sub-CC00621XX11_ses-177900/mri/aseg.TestingSetRerun_FastSurferVINN_T2_10NN08_T2_LatentAug_full.mgz\n",
      "Cropping /projects/datasets/dHCP/Data/sub-CC00223XX09_ses-75900/T2w_1to5.nii.gz\n",
      "Cropping /projects/datasets/dHCP/Data/sub-CC00223XX09_ses-75900/T2w_8to5.nii.gz\n",
      "Cropping /projects/datasets/dHCP/Data/sub-CC00223XX09_ses-75900/mri/aseg.TestingSetRerun_FastSurferVINN_T2_10NN05_T2_LatentAug_full.mgz\n",
      "Cropping /projects/datasets/dHCP/Data/sub-CC00223XX09_ses-75900/mri/aseg.TestingSetRerun_FastSurferVINN_T2_08NN05_T2_LatentAug_full.mgz\n",
      "Cropping /projects/datasets/dHCP/Data/sub-CC00223XX09_ses-75900/T2w_1to8.nii.gz\n",
      "Cropping /projects/datasets/dHCP/Data/sub-CC00223XX09_ses-75900/mri/aseg.TestingSetRerun_FastSurferVINN_T2_10NN08_T2_LatentAug_full.mgz\n",
      "Cropping /projects/datasets/dHCP/Data/sub-CC00076XX11_ses-28700/T2w_1to5.nii.gz\n",
      "Cropping /projects/datasets/dHCP/Data/sub-CC00076XX11_ses-28700/T2w_8to5.nii.gz\n",
      "Cropping /projects/datasets/dHCP/Data/sub-CC00076XX11_ses-28700/mri/aseg.TestingSetRerun_FastSurferVINN_T2_10NN05_T2_LatentAug_full.mgz\n",
      "Cropping /projects/datasets/dHCP/Data/sub-CC00076XX11_ses-28700/mri/aseg.TestingSetRerun_FastSurferVINN_T2_08NN05_T2_LatentAug_full.mgz\n",
      "Cropping /projects/datasets/dHCP/Data/sub-CC00076XX11_ses-28700/T2w_1to8.nii.gz\n",
      "Cropping /projects/datasets/dHCP/Data/sub-CC00076XX11_ses-28700/mri/aseg.TestingSetRerun_FastSurferVINN_T2_10NN08_T2_LatentAug_full.mgz\n",
      "Cropping /projects/datasets/dHCP/Data/sub-CC00087BN14_ses-32100/T2w_1to5.nii.gz\n",
      "Cropping /projects/datasets/dHCP/Data/sub-CC00087BN14_ses-32100/T2w_8to5.nii.gz\n",
      "Cropping /projects/datasets/dHCP/Data/sub-CC00087BN14_ses-32100/mri/aseg.TestingSetRerun_FastSurferVINN_T2_10NN05_T2_LatentAug_full.mgz\n",
      "Cropping /projects/datasets/dHCP/Data/sub-CC00087BN14_ses-32100/mri/aseg.TestingSetRerun_FastSurferVINN_T2_08NN05_T2_LatentAug_full.mgz\n",
      "Cropping /projects/datasets/dHCP/Data/sub-CC00087BN14_ses-32100/T2w_1to8.nii.gz\n",
      "Cropping /projects/datasets/dHCP/Data/sub-CC00087BN14_ses-32100/mri/aseg.TestingSetRerun_FastSurferVINN_T2_10NN08_T2_LatentAug_full.mgz\n",
      "Cropping /projects/datasets/dHCP/Data/sub-CC01234AN14_ses-155030/T2w_1to5.nii.gz\n",
      "Cropping /projects/datasets/dHCP/Data/sub-CC01234AN14_ses-155030/T2w_8to5.nii.gz\n",
      "Cropping /projects/datasets/dHCP/Data/sub-CC01234AN14_ses-155030/mri/aseg.TestingSetRerun_FastSurferVINN_T2_10NN05_T2_LatentAug_full.mgz\n",
      "Cropping /projects/datasets/dHCP/Data/sub-CC01234AN14_ses-155030/mri/aseg.TestingSetRerun_FastSurferVINN_T2_08NN05_T2_LatentAug_full.mgz\n",
      "Cropping /projects/datasets/dHCP/Data/sub-CC01234AN14_ses-155030/T2w_1to8.nii.gz\n",
      "Cropping /projects/datasets/dHCP/Data/sub-CC01234AN14_ses-155030/mri/aseg.TestingSetRerun_FastSurferVINN_T2_10NN08_T2_LatentAug_full.mgz\n",
      "Cropping /projects/datasets/dHCP/Data/sub-CC01093AN14_ses-75130/T2w_1to5.nii.gz\n",
      "Cropping /projects/datasets/dHCP/Data/sub-CC01093AN14_ses-75130/T2w_8to5.nii.gz\n",
      "Cropping /projects/datasets/dHCP/Data/sub-CC01093AN14_ses-75130/mri/aseg.TestingSetRerun_FastSurferVINN_T2_10NN05_T2_LatentAug_full.mgz\n",
      "Cropping /projects/datasets/dHCP/Data/sub-CC01093AN14_ses-75130/mri/aseg.TestingSetRerun_FastSurferVINN_T2_08NN05_T2_LatentAug_full.mgz\n",
      "Cropping /projects/datasets/dHCP/Data/sub-CC01093AN14_ses-75130/T2w_1to8.nii.gz\n",
      "Cropping /projects/datasets/dHCP/Data/sub-CC01093AN14_ses-75130/mri/aseg.TestingSetRerun_FastSurferVINN_T2_10NN08_T2_LatentAug_full.mgz\n",
      "Cropping /projects/datasets/dHCP/Data/sub-CC00770XX12_ses-238000/T2w_1to5.nii.gz\n"
     ]
    },
    {
     "name": "stdout",
     "output_type": "stream",
     "text": [
      "Cropping /projects/datasets/dHCP/Data/sub-CC00770XX12_ses-238000/T2w_8to5.nii.gz\n",
      "Cropping /projects/datasets/dHCP/Data/sub-CC00770XX12_ses-238000/mri/aseg.TestingSetRerun_FastSurferVINN_T2_10NN05_T2_LatentAug_full.mgz\n",
      "Cropping /projects/datasets/dHCP/Data/sub-CC00770XX12_ses-238000/mri/aseg.TestingSetRerun_FastSurferVINN_T2_08NN05_T2_LatentAug_full.mgz\n",
      "Cropping /projects/datasets/dHCP/Data/sub-CC00770XX12_ses-238000/T2w_1to8.nii.gz\n",
      "Cropping /projects/datasets/dHCP/Data/sub-CC00770XX12_ses-238000/mri/aseg.TestingSetRerun_FastSurferVINN_T2_10NN08_T2_LatentAug_full.mgz\n",
      "Cropping /projects/datasets/dHCP/Data/sub-CC00513XX10_ses-150000/T2w_1to5.nii.gz\n",
      "Cropping /projects/datasets/dHCP/Data/sub-CC00513XX10_ses-150000/T2w_8to5.nii.gz\n",
      "Cropping /projects/datasets/dHCP/Data/sub-CC00513XX10_ses-150000/mri/aseg.TestingSetRerun_FastSurferVINN_T2_10NN05_T2_LatentAug_full.mgz\n",
      "Cropping /projects/datasets/dHCP/Data/sub-CC00513XX10_ses-150000/mri/aseg.TestingSetRerun_FastSurferVINN_T2_08NN05_T2_LatentAug_full.mgz\n",
      "Cropping /projects/datasets/dHCP/Data/sub-CC00513XX10_ses-150000/T2w_1to8.nii.gz\n",
      "Cropping /projects/datasets/dHCP/Data/sub-CC00513XX10_ses-150000/mri/aseg.TestingSetRerun_FastSurferVINN_T2_10NN08_T2_LatentAug_full.mgz\n",
      "Cropping /projects/datasets/dHCP/Data/sub-CC00051XX02_ses-7702/T2w_1to5.nii.gz\n",
      "Cropping /projects/datasets/dHCP/Data/sub-CC00051XX02_ses-7702/T2w_8to5.nii.gz\n",
      "Cropping /projects/datasets/dHCP/Data/sub-CC00051XX02_ses-7702/mri/aseg.TestingSetRerun_FastSurferVINN_T2_10NN05_T2_LatentAug_full.mgz\n",
      "Cropping /projects/datasets/dHCP/Data/sub-CC00051XX02_ses-7702/mri/aseg.TestingSetRerun_FastSurferVINN_T2_08NN05_T2_LatentAug_full.mgz\n",
      "Cropping /projects/datasets/dHCP/Data/sub-CC00051XX02_ses-7702/T2w_1to8.nii.gz\n",
      "Cropping /projects/datasets/dHCP/Data/sub-CC00051XX02_ses-7702/mri/aseg.TestingSetRerun_FastSurferVINN_T2_10NN08_T2_LatentAug_full.mgz\n",
      "Cropping /projects/datasets/dHCP/Data/sub-CC00687XX20_ses-199000/T2w_1to5.nii.gz\n",
      "Cropping /projects/datasets/dHCP/Data/sub-CC00687XX20_ses-199000/T2w_8to5.nii.gz\n",
      "Cropping /projects/datasets/dHCP/Data/sub-CC00687XX20_ses-199000/mri/aseg.TestingSetRerun_FastSurferVINN_T2_10NN05_T2_LatentAug_full.mgz\n",
      "Cropping /projects/datasets/dHCP/Data/sub-CC00687XX20_ses-199000/mri/aseg.TestingSetRerun_FastSurferVINN_T2_08NN05_T2_LatentAug_full.mgz\n",
      "Cropping /projects/datasets/dHCP/Data/sub-CC00687XX20_ses-199000/T2w_1to8.nii.gz\n",
      "Cropping /projects/datasets/dHCP/Data/sub-CC00687XX20_ses-199000/mri/aseg.TestingSetRerun_FastSurferVINN_T2_10NN08_T2_LatentAug_full.mgz\n",
      "Cropping /projects/datasets/dHCP/Data/sub-CC00669XX18_ses-214300/T2w_1to5.nii.gz\n",
      "Cropping /projects/datasets/dHCP/Data/sub-CC00669XX18_ses-214300/T2w_8to5.nii.gz\n",
      "Cropping /projects/datasets/dHCP/Data/sub-CC00669XX18_ses-214300/mri/aseg.TestingSetRerun_FastSurferVINN_T2_10NN05_T2_LatentAug_full.mgz\n",
      "Cropping /projects/datasets/dHCP/Data/sub-CC00669XX18_ses-214300/mri/aseg.TestingSetRerun_FastSurferVINN_T2_08NN05_T2_LatentAug_full.mgz\n",
      "Cropping /projects/datasets/dHCP/Data/sub-CC00669XX18_ses-214300/T2w_1to8.nii.gz\n",
      "Cropping /projects/datasets/dHCP/Data/sub-CC00669XX18_ses-214300/mri/aseg.TestingSetRerun_FastSurferVINN_T2_10NN08_T2_LatentAug_full.mgz\n",
      "Cropping /projects/datasets/dHCP/Data/sub-CC01093BN14_ses-75230/T2w_1to5.nii.gz\n",
      "Cropping /projects/datasets/dHCP/Data/sub-CC01093BN14_ses-75230/T2w_8to5.nii.gz\n",
      "Cropping /projects/datasets/dHCP/Data/sub-CC01093BN14_ses-75230/mri/aseg.TestingSetRerun_FastSurferVINN_T2_10NN05_T2_LatentAug_full.mgz\n",
      "Cropping /projects/datasets/dHCP/Data/sub-CC01093BN14_ses-75230/mri/aseg.TestingSetRerun_FastSurferVINN_T2_08NN05_T2_LatentAug_full.mgz\n",
      "Cropping /projects/datasets/dHCP/Data/sub-CC01093BN14_ses-75230/T2w_1to8.nii.gz\n",
      "Cropping /projects/datasets/dHCP/Data/sub-CC01093BN14_ses-75230/mri/aseg.TestingSetRerun_FastSurferVINN_T2_10NN08_T2_LatentAug_full.mgz\n",
      "Cropping /projects/datasets/dHCP/Data/sub-CC00199XX19_ses-66700/T2w_1to5.nii.gz\n",
      "Cropping /projects/datasets/dHCP/Data/sub-CC00199XX19_ses-66700/T2w_8to5.nii.gz\n",
      "Cropping /projects/datasets/dHCP/Data/sub-CC00199XX19_ses-66700/mri/aseg.TestingSetRerun_FastSurferVINN_T2_10NN05_T2_LatentAug_full.mgz\n",
      "Cropping /projects/datasets/dHCP/Data/sub-CC00199XX19_ses-66700/mri/aseg.TestingSetRerun_FastSurferVINN_T2_08NN05_T2_LatentAug_full.mgz\n",
      "Cropping /projects/datasets/dHCP/Data/sub-CC00199XX19_ses-66700/T2w_1to8.nii.gz\n",
      "Cropping /projects/datasets/dHCP/Data/sub-CC00199XX19_ses-66700/mri/aseg.TestingSetRerun_FastSurferVINN_T2_10NN08_T2_LatentAug_full.mgz\n",
      "Cropping /projects/datasets/dHCP/Data/sub-CC00074XX09_ses-28000/T2w_1to5.nii.gz\n",
      "Cropping /projects/datasets/dHCP/Data/sub-CC00074XX09_ses-28000/T2w_8to5.nii.gz\n",
      "Cropping /projects/datasets/dHCP/Data/sub-CC00074XX09_ses-28000/mri/aseg.TestingSetRerun_FastSurferVINN_T2_10NN05_T2_LatentAug_full.mgz\n",
      "Cropping /projects/datasets/dHCP/Data/sub-CC00074XX09_ses-28000/mri/aseg.TestingSetRerun_FastSurferVINN_T2_08NN05_T2_LatentAug_full.mgz\n",
      "Cropping /projects/datasets/dHCP/Data/sub-CC00074XX09_ses-28000/T2w_1to8.nii.gz\n",
      "Cropping /projects/datasets/dHCP/Data/sub-CC00074XX09_ses-28000/mri/aseg.TestingSetRerun_FastSurferVINN_T2_10NN08_T2_LatentAug_full.mgz\n",
      "Cropping /projects/datasets/dHCP/Data/sub-CC00404XX08_ses-124500/T2w_1to5.nii.gz\n",
      "Cropping /projects/datasets/dHCP/Data/sub-CC00404XX08_ses-124500/T2w_8to5.nii.gz\n",
      "Cropping /projects/datasets/dHCP/Data/sub-CC00404XX08_ses-124500/mri/aseg.TestingSetRerun_FastSurferVINN_T2_10NN05_T2_LatentAug_full.mgz\n",
      "Cropping /projects/datasets/dHCP/Data/sub-CC00404XX08_ses-124500/mri/aseg.TestingSetRerun_FastSurferVINN_T2_08NN05_T2_LatentAug_full.mgz\n",
      "Cropping /projects/datasets/dHCP/Data/sub-CC00404XX08_ses-124500/T2w_1to8.nii.gz\n",
      "Cropping /projects/datasets/dHCP/Data/sub-CC00404XX08_ses-124500/mri/aseg.TestingSetRerun_FastSurferVINN_T2_10NN08_T2_LatentAug_full.mgz\n",
      "Cropping /projects/datasets/dHCP/Data/sub-CC01004XX06_ses-51630/T2w_1to5.nii.gz\n",
      "Cropping /projects/datasets/dHCP/Data/sub-CC01004XX06_ses-51630/T2w_8to5.nii.gz\n",
      "Cropping /projects/datasets/dHCP/Data/sub-CC01004XX06_ses-51630/mri/aseg.TestingSetRerun_FastSurferVINN_T2_10NN05_T2_LatentAug_full.mgz\n",
      "Cropping /projects/datasets/dHCP/Data/sub-CC01004XX06_ses-51630/mri/aseg.TestingSetRerun_FastSurferVINN_T2_08NN05_T2_LatentAug_full.mgz\n",
      "Cropping /projects/datasets/dHCP/Data/sub-CC01004XX06_ses-51630/T2w_1to8.nii.gz\n",
      "Cropping /projects/datasets/dHCP/Data/sub-CC01004XX06_ses-51630/mri/aseg.TestingSetRerun_FastSurferVINN_T2_10NN08_T2_LatentAug_full.mgz\n",
      "Cropping /projects/datasets/dHCP/Data/sub-CC00686XX19_ses-198800/T2w_1to5.nii.gz\n",
      "Cropping /projects/datasets/dHCP/Data/sub-CC00686XX19_ses-198800/T2w_8to5.nii.gz\n",
      "Cropping /projects/datasets/dHCP/Data/sub-CC00686XX19_ses-198800/mri/aseg.TestingSetRerun_FastSurferVINN_T2_10NN05_T2_LatentAug_full.mgz\n",
      "Cropping /projects/datasets/dHCP/Data/sub-CC00686XX19_ses-198800/mri/aseg.TestingSetRerun_FastSurferVINN_T2_08NN05_T2_LatentAug_full.mgz\n",
      "Cropping /projects/datasets/dHCP/Data/sub-CC00686XX19_ses-198800/T2w_1to8.nii.gz\n",
      "Cropping /projects/datasets/dHCP/Data/sub-CC00686XX19_ses-198800/mri/aseg.TestingSetRerun_FastSurferVINN_T2_10NN08_T2_LatentAug_full.mgz\n",
      "Cropping /projects/datasets/dHCP/Data/sub-CC00306XX09_ses-98700/T2w_1to5.nii.gz\n",
      "Cropping /projects/datasets/dHCP/Data/sub-CC00306XX09_ses-98700/T2w_8to5.nii.gz\n",
      "Cropping /projects/datasets/dHCP/Data/sub-CC00306XX09_ses-98700/mri/aseg.TestingSetRerun_FastSurferVINN_T2_10NN05_T2_LatentAug_full.mgz\n",
      "Cropping /projects/datasets/dHCP/Data/sub-CC00306XX09_ses-98700/mri/aseg.TestingSetRerun_FastSurferVINN_T2_08NN05_T2_LatentAug_full.mgz\n",
      "Cropping /projects/datasets/dHCP/Data/sub-CC00306XX09_ses-98700/T2w_1to8.nii.gz\n",
      "Cropping /projects/datasets/dHCP/Data/sub-CC00306XX09_ses-98700/mri/aseg.TestingSetRerun_FastSurferVINN_T2_10NN08_T2_LatentAug_full.mgz\n",
      "Cropping /projects/datasets/dHCP/Data/sub-CC01212XX08_ses-146030/T2w_1to5.nii.gz\n",
      "Cropping /projects/datasets/dHCP/Data/sub-CC01212XX08_ses-146030/T2w_8to5.nii.gz\n",
      "Cropping /projects/datasets/dHCP/Data/sub-CC01212XX08_ses-146030/mri/aseg.TestingSetRerun_FastSurferVINN_T2_10NN05_T2_LatentAug_full.mgz\n",
      "Cropping /projects/datasets/dHCP/Data/sub-CC01212XX08_ses-146030/mri/aseg.TestingSetRerun_FastSurferVINN_T2_08NN05_T2_LatentAug_full.mgz\n",
      "Cropping /projects/datasets/dHCP/Data/sub-CC01212XX08_ses-146030/T2w_1to8.nii.gz\n"
     ]
    },
    {
     "name": "stdout",
     "output_type": "stream",
     "text": [
      "Cropping /projects/datasets/dHCP/Data/sub-CC01212XX08_ses-146030/mri/aseg.TestingSetRerun_FastSurferVINN_T2_10NN08_T2_LatentAug_full.mgz\n",
      "Cropping /projects/datasets/dHCP/Data/sub-CC00466AN13_ses-138400/T2w_1to5.nii.gz\n",
      "Cropping /projects/datasets/dHCP/Data/sub-CC00466AN13_ses-138400/T2w_8to5.nii.gz\n",
      "Cropping /projects/datasets/dHCP/Data/sub-CC00466AN13_ses-138400/mri/aseg.TestingSetRerun_FastSurferVINN_T2_10NN05_T2_LatentAug_full.mgz\n",
      "Cropping /projects/datasets/dHCP/Data/sub-CC00466AN13_ses-138400/mri/aseg.TestingSetRerun_FastSurferVINN_T2_08NN05_T2_LatentAug_full.mgz\n",
      "Cropping /projects/datasets/dHCP/Data/sub-CC00466AN13_ses-138400/T2w_1to8.nii.gz\n",
      "Cropping /projects/datasets/dHCP/Data/sub-CC00466AN13_ses-138400/mri/aseg.TestingSetRerun_FastSurferVINN_T2_10NN08_T2_LatentAug_full.mgz\n",
      "Cropping /projects/datasets/dHCP/Data/sub-CC00649XX23_ses-191201/T2w_1to5.nii.gz\n",
      "Cropping /projects/datasets/dHCP/Data/sub-CC00649XX23_ses-191201/T2w_8to5.nii.gz\n",
      "Cropping /projects/datasets/dHCP/Data/sub-CC00649XX23_ses-191201/mri/aseg.TestingSetRerun_FastSurferVINN_T2_10NN05_T2_LatentAug_full.mgz\n",
      "Cropping /projects/datasets/dHCP/Data/sub-CC00649XX23_ses-191201/mri/aseg.TestingSetRerun_FastSurferVINN_T2_08NN05_T2_LatentAug_full.mgz\n",
      "Cropping /projects/datasets/dHCP/Data/sub-CC00649XX23_ses-191201/T2w_1to8.nii.gz\n",
      "Cropping /projects/datasets/dHCP/Data/sub-CC00649XX23_ses-191201/mri/aseg.TestingSetRerun_FastSurferVINN_T2_10NN08_T2_LatentAug_full.mgz\n",
      "Cropping /projects/datasets/dHCP/Data/sub-CC00418BN14_ses-125300/T2w_1to5.nii.gz\n",
      "Cropping /projects/datasets/dHCP/Data/sub-CC00418BN14_ses-125300/T2w_8to5.nii.gz\n",
      "Cropping /projects/datasets/dHCP/Data/sub-CC00418BN14_ses-125300/mri/aseg.TestingSetRerun_FastSurferVINN_T2_10NN05_T2_LatentAug_full.mgz\n",
      "Cropping /projects/datasets/dHCP/Data/sub-CC00418BN14_ses-125300/mri/aseg.TestingSetRerun_FastSurferVINN_T2_08NN05_T2_LatentAug_full.mgz\n",
      "Cropping /projects/datasets/dHCP/Data/sub-CC00418BN14_ses-125300/T2w_1to8.nii.gz\n",
      "Cropping /projects/datasets/dHCP/Data/sub-CC00418BN14_ses-125300/mri/aseg.TestingSetRerun_FastSurferVINN_T2_10NN08_T2_LatentAug_full.mgz\n",
      "Cropping /projects/datasets/dHCP/Data/sub-CC00129AN14_ses-43500/T2w_1to5.nii.gz\n",
      "Cropping /projects/datasets/dHCP/Data/sub-CC00129AN14_ses-43500/T2w_8to5.nii.gz\n",
      "Cropping /projects/datasets/dHCP/Data/sub-CC00129AN14_ses-43500/mri/aseg.TestingSetRerun_FastSurferVINN_T2_10NN05_T2_LatentAug_full.mgz\n",
      "Cropping /projects/datasets/dHCP/Data/sub-CC00129AN14_ses-43500/mri/aseg.TestingSetRerun_FastSurferVINN_T2_08NN05_T2_LatentAug_full.mgz\n",
      "Cropping /projects/datasets/dHCP/Data/sub-CC00129AN14_ses-43500/T2w_1to8.nii.gz\n",
      "Cropping /projects/datasets/dHCP/Data/sub-CC00129AN14_ses-43500/mri/aseg.TestingSetRerun_FastSurferVINN_T2_10NN08_T2_LatentAug_full.mgz\n",
      "Cropping /projects/datasets/dHCP/Data/sub-CC00907XX16_ses-4230/T2w_1to5.nii.gz\n",
      "Cropping /projects/datasets/dHCP/Data/sub-CC00907XX16_ses-4230/T2w_8to5.nii.gz\n",
      "Cropping /projects/datasets/dHCP/Data/sub-CC00907XX16_ses-4230/mri/aseg.TestingSetRerun_FastSurferVINN_T2_10NN05_T2_LatentAug_full.mgz\n",
      "Cropping /projects/datasets/dHCP/Data/sub-CC00907XX16_ses-4230/mri/aseg.TestingSetRerun_FastSurferVINN_T2_08NN05_T2_LatentAug_full.mgz\n",
      "Cropping /projects/datasets/dHCP/Data/sub-CC00907XX16_ses-4230/T2w_1to8.nii.gz\n",
      "Cropping /projects/datasets/dHCP/Data/sub-CC00907XX16_ses-4230/mri/aseg.TestingSetRerun_FastSurferVINN_T2_10NN08_T2_LatentAug_full.mgz\n",
      "Cropping /projects/datasets/dHCP/Data/sub-CC00136AN13_ses-45100/T2w_1to5.nii.gz\n",
      "Cropping /projects/datasets/dHCP/Data/sub-CC00136AN13_ses-45100/T2w_8to5.nii.gz\n",
      "Cropping /projects/datasets/dHCP/Data/sub-CC00136AN13_ses-45100/mri/aseg.TestingSetRerun_FastSurferVINN_T2_10NN05_T2_LatentAug_full.mgz\n",
      "Cropping /projects/datasets/dHCP/Data/sub-CC00136AN13_ses-45100/mri/aseg.TestingSetRerun_FastSurferVINN_T2_08NN05_T2_LatentAug_full.mgz\n",
      "Cropping /projects/datasets/dHCP/Data/sub-CC00136AN13_ses-45100/T2w_1to8.nii.gz\n",
      "Cropping /projects/datasets/dHCP/Data/sub-CC00136AN13_ses-45100/mri/aseg.TestingSetRerun_FastSurferVINN_T2_10NN08_T2_LatentAug_full.mgz\n",
      "Cropping /projects/datasets/dHCP/Data/sub-CC00067XX10_ses-20200/T2w_1to5.nii.gz\n",
      "Cropping /projects/datasets/dHCP/Data/sub-CC00067XX10_ses-20200/T2w_8to5.nii.gz\n",
      "Cropping /projects/datasets/dHCP/Data/sub-CC00067XX10_ses-20200/mri/aseg.TestingSetRerun_FastSurferVINN_T2_10NN05_T2_LatentAug_full.mgz\n",
      "Cropping /projects/datasets/dHCP/Data/sub-CC00067XX10_ses-20200/mri/aseg.TestingSetRerun_FastSurferVINN_T2_08NN05_T2_LatentAug_full.mgz\n",
      "Cropping /projects/datasets/dHCP/Data/sub-CC00067XX10_ses-20200/T2w_1to8.nii.gz\n",
      "Cropping /projects/datasets/dHCP/Data/sub-CC00067XX10_ses-20200/mri/aseg.TestingSetRerun_FastSurferVINN_T2_10NN08_T2_LatentAug_full.mgz\n"
     ]
    }
   ],
   "source": [
    "db = \"/projects/datasets/dHCP/Data/\"\n",
    "pre=\"mri/aseg.TestingSetRerun_FastSurferVINN_T2_\"\n",
    "suf=\"_T2_LatentAug_full.mgz\"\n",
    "for sbj in sbjs[\"ID\"]:\n",
    "    halfmin = os.path.join(db, sbj, \"T2w_min.nii.gz\")\n",
    "    for half_cuts in [\"T2w_1to5.nii.gz\", \"T2w_8to5.nii.gz\", f\"{pre}10NN05{suf}\", f\"{pre}08NN05{suf}\"]:\n",
    "        sampled = os.path.join(db, sbj, half_cuts)\n",
    "        print(f\"Cropping {sampled}\")\n",
    "        try:\n",
    "            _ = crop_image_from_affine(sampled, halfmin, sampled)\n",
    "        except FileNotFoundError as e:\n",
    "            print(f\"Processing failed on {sbj}: {e}\")\n",
    "    \n",
    "    halfmin = os.path.join(db, sbj, \"T2w_08_dhcp.nii.gz\")\n",
    "    for eight_cut in [\"T2w_1to8.nii.gz\", f\"{pre}10NN08{suf}\"]:\n",
    "        sampled = os.path.join(db, sbj, eight_cut)\n",
    "        print(f\"Cropping {sampled}\")\n",
    "        try:\n",
    "            _ = crop_image_from_affine(sampled, halfmin, sampled)\n",
    "        except FileNotFoundError as e:\n",
    "            print(f\"Processing failed on {sbj}: {e}\")"
   ]
  },
  {
   "cell_type": "code",
   "execution_count": null,
   "id": "e3bda3b8",
   "metadata": {},
   "outputs": [],
   "source": []
  }
 ],
 "metadata": {
  "kernelspec": {
   "display_name": "Python 3 (ipykernel)",
   "language": "python",
   "name": "python3"
  },
  "language_info": {
   "codemirror_mode": {
    "name": "ipython",
    "version": 3
   },
   "file_extension": ".py",
   "mimetype": "text/x-python",
   "name": "python",
   "nbconvert_exporter": "python",
   "pygments_lexer": "ipython3",
   "version": "3.7.7"
  }
 },
 "nbformat": 4,
 "nbformat_minor": 5
}
