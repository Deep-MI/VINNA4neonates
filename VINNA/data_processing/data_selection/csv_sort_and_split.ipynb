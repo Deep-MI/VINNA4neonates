{
 "cells": [
  {
   "cell_type": "code",
   "execution_count": 4,
   "id": "8a9e9ae6",
   "metadata": {},
   "outputs": [],
   "source": [
    "import pandas as pd\n",
    "import numpy as np"
   ]
  },
  {
   "cell_type": "code",
   "execution_count": 18,
   "id": "11316c67",
   "metadata": {},
   "outputs": [],
   "source": [
    "fstr_in = \"/projects/master-theses/henschell/FastInfantSurfer/data/dataset_split_large_training_t1t2.csv\"\n",
    "fstr_out = f\"{fstr_in[:-4]}_meta_hires.tsv\" "
   ]
  },
  {
   "cell_type": "code",
   "execution_count": 19,
   "id": "910e38e4",
   "metadata": {},
   "outputs": [],
   "source": [
    "# Read in the meta-information, create correct SubjectID for merging with val data\n",
    "meta = pd.read_csv(\"/projects/master-theses/henschell/FastInfantSurfer/data/subject_meta_full.csv\")\n",
    "meta[\"SubjectFix\"] = \"sub-\" + meta[\"participant_id\"].astype(str) + \"_ses-\" + meta[\"session_id\"].astype(str) \n",
    "\n",
    "# Read in the split data\n",
    "val = pd.read_csv(fstr_in, names=[\"Path\"])\n",
    "\n",
    "# Split to get SubjectID\n",
    "val[\"SubjectFix\"] = val[\"Path\"].str.split(\"/\").str[-1]"
   ]
  },
  {
   "cell_type": "code",
   "execution_count": 20,
   "id": "fd685ba7",
   "metadata": {},
   "outputs": [
    {
     "data": {
      "text/plain": [
       "(356, 2)"
      ]
     },
     "execution_count": 20,
     "metadata": {},
     "output_type": "execute_result"
    }
   ],
   "source": [
    "val.shape"
   ]
  },
  {
   "cell_type": "code",
   "execution_count": 21,
   "id": "b82ce8d6",
   "metadata": {},
   "outputs": [
    {
     "data": {
      "text/html": [
       "<div>\n",
       "<style scoped>\n",
       "    .dataframe tbody tr th:only-of-type {\n",
       "        vertical-align: middle;\n",
       "    }\n",
       "\n",
       "    .dataframe tbody tr th {\n",
       "        vertical-align: top;\n",
       "    }\n",
       "\n",
       "    .dataframe thead th {\n",
       "        text-align: right;\n",
       "    }\n",
       "</style>\n",
       "<table border=\"1\" class=\"dataframe\">\n",
       "  <thead>\n",
       "    <tr style=\"text-align: right;\">\n",
       "      <th></th>\n",
       "      <th>SubjectFix</th>\n",
       "      <th>scan_age</th>\n",
       "      <th>sex</th>\n",
       "    </tr>\n",
       "  </thead>\n",
       "  <tbody>\n",
       "    <tr>\n",
       "      <th>0</th>\n",
       "      <td>sub-CC00050XX01_ses-7201</td>\n",
       "      <td>43.29</td>\n",
       "      <td>female</td>\n",
       "    </tr>\n",
       "    <tr>\n",
       "      <th>1</th>\n",
       "      <td>sub-CC00051XX02_ses-7702</td>\n",
       "      <td>40.00</td>\n",
       "      <td>female</td>\n",
       "    </tr>\n",
       "    <tr>\n",
       "      <th>2</th>\n",
       "      <td>sub-CC00052XX03_ses-8300</td>\n",
       "      <td>38.71</td>\n",
       "      <td>female</td>\n",
       "    </tr>\n",
       "    <tr>\n",
       "      <th>3</th>\n",
       "      <td>sub-CC00053XX04_ses-8607</td>\n",
       "      <td>40.43</td>\n",
       "      <td>female</td>\n",
       "    </tr>\n",
       "    <tr>\n",
       "      <th>4</th>\n",
       "      <td>sub-CC00054XX05_ses-8800</td>\n",
       "      <td>42.14</td>\n",
       "      <td>male</td>\n",
       "    </tr>\n",
       "  </tbody>\n",
       "</table>\n",
       "</div>"
      ],
      "text/plain": [
       "                 SubjectFix  scan_age     sex\n",
       "0  sub-CC00050XX01_ses-7201     43.29  female\n",
       "1  sub-CC00051XX02_ses-7702     40.00  female\n",
       "2  sub-CC00052XX03_ses-8300     38.71  female\n",
       "3  sub-CC00053XX04_ses-8607     40.43  female\n",
       "4  sub-CC00054XX05_ses-8800     42.14    male"
      ]
     },
     "execution_count": 21,
     "metadata": {},
     "output_type": "execute_result"
    }
   ],
   "source": [
    "meta[[\"SubjectFix\", \"scan_age\", \"sex\"]].head()"
   ]
  },
  {
   "cell_type": "code",
   "execution_count": 22,
   "id": "ba621366",
   "metadata": {},
   "outputs": [],
   "source": [
    "# Add Gender and Age to split data\n",
    "val = val.merge(meta[[\"SubjectFix\", \"scan_age\", \"sex\"]], on=\"SubjectFix\", how=\"inner\").drop_duplicates()\n"
   ]
  },
  {
   "cell_type": "code",
   "execution_count": 23,
   "id": "ca5a4abd",
   "metadata": {},
   "outputs": [
    {
     "data": {
      "text/plain": [
       "(355, 4)"
      ]
     },
     "execution_count": 23,
     "metadata": {},
     "output_type": "execute_result"
    }
   ],
   "source": [
    "val.shape"
   ]
  },
  {
   "cell_type": "code",
   "execution_count": 24,
   "id": "7234ef50",
   "metadata": {},
   "outputs": [],
   "source": [
    "# Sort by 1. Gender, 2. Age\n",
    "val_sorted = val.sort_values([\"sex\", \"scan_age\"]).reset_index(drop=True)\n"
   ]
  },
  {
   "cell_type": "code",
   "execution_count": 25,
   "id": "9462fbb8",
   "metadata": {},
   "outputs": [],
   "source": [
    "# Assign 0.5, 0.8, 1.0 until the end\n",
    "from itertools import cycle\n",
    "\n",
    "resolution = cycle([0.5, 0.8]) #, 1.0])\n",
    "val_sorted[\"Resolution\"] = [next(resolution) for res in range(len(val_sorted))]"
   ]
  },
  {
   "cell_type": "code",
   "execution_count": 26,
   "id": "564ba650",
   "metadata": {},
   "outputs": [
    {
     "data": {
      "text/html": [
       "<div>\n",
       "<style scoped>\n",
       "    .dataframe tbody tr th:only-of-type {\n",
       "        vertical-align: middle;\n",
       "    }\n",
       "\n",
       "    .dataframe tbody tr th {\n",
       "        vertical-align: top;\n",
       "    }\n",
       "\n",
       "    .dataframe thead th {\n",
       "        text-align: right;\n",
       "    }\n",
       "</style>\n",
       "<table border=\"1\" class=\"dataframe\">\n",
       "  <thead>\n",
       "    <tr style=\"text-align: right;\">\n",
       "      <th></th>\n",
       "      <th>Path</th>\n",
       "      <th>SubjectFix</th>\n",
       "      <th>scan_age</th>\n",
       "      <th>sex</th>\n",
       "      <th>Resolution</th>\n",
       "    </tr>\n",
       "  </thead>\n",
       "  <tbody>\n",
       "    <tr>\n",
       "      <th>0</th>\n",
       "      <td>/autofs/vast/lzgroup/Projects/FastInfantSurfer...</td>\n",
       "      <td>sub-CC00718XX17_ses-210400</td>\n",
       "      <td>26.71</td>\n",
       "      <td>female</td>\n",
       "      <td>0.5</td>\n",
       "    </tr>\n",
       "    <tr>\n",
       "      <th>1</th>\n",
       "      <td>/autofs/vast/lzgroup/Projects/FastInfantSurfer...</td>\n",
       "      <td>sub-CC00936XX21_ses-11431</td>\n",
       "      <td>27.43</td>\n",
       "      <td>female</td>\n",
       "      <td>0.8</td>\n",
       "    </tr>\n",
       "    <tr>\n",
       "      <th>2</th>\n",
       "      <td>/autofs/vast/lzgroup/Projects/FastInfantSurfer...</td>\n",
       "      <td>sub-CC00867XX18_ses-37111</td>\n",
       "      <td>28.29</td>\n",
       "      <td>female</td>\n",
       "      <td>0.5</td>\n",
       "    </tr>\n",
       "    <tr>\n",
       "      <th>3</th>\n",
       "      <td>/autofs/vast/lzgroup/Projects/FastInfantSurfer...</td>\n",
       "      <td>sub-CC00796XX22_ses-245100</td>\n",
       "      <td>29.29</td>\n",
       "      <td>female</td>\n",
       "      <td>0.8</td>\n",
       "    </tr>\n",
       "    <tr>\n",
       "      <th>4</th>\n",
       "      <td>/autofs/vast/lzgroup/Projects/FastInfantSurfer...</td>\n",
       "      <td>sub-CC00530XX11_ses-153600</td>\n",
       "      <td>29.29</td>\n",
       "      <td>female</td>\n",
       "      <td>0.5</td>\n",
       "    </tr>\n",
       "    <tr>\n",
       "      <th>...</th>\n",
       "      <td>...</td>\n",
       "      <td>...</td>\n",
       "      <td>...</td>\n",
       "      <td>...</td>\n",
       "      <td>...</td>\n",
       "    </tr>\n",
       "    <tr>\n",
       "      <th>350</th>\n",
       "      <td>/autofs/vast/lzgroup/Projects/FastInfantSurfer...</td>\n",
       "      <td>sub-CC00130XX07_ses-44001</td>\n",
       "      <td>43.43</td>\n",
       "      <td>male</td>\n",
       "      <td>0.5</td>\n",
       "    </tr>\n",
       "    <tr>\n",
       "      <th>351</th>\n",
       "      <td>/autofs/vast/lzgroup/Projects/FastInfantSurfer...</td>\n",
       "      <td>sub-CC00890XX17_ses-13330</td>\n",
       "      <td>43.71</td>\n",
       "      <td>male</td>\n",
       "      <td>0.8</td>\n",
       "    </tr>\n",
       "    <tr>\n",
       "      <th>352</th>\n",
       "      <td>/autofs/vast/lzgroup/Projects/FastInfantSurfer...</td>\n",
       "      <td>sub-CC01027XX13_ses-82630</td>\n",
       "      <td>43.71</td>\n",
       "      <td>male</td>\n",
       "      <td>0.5</td>\n",
       "    </tr>\n",
       "    <tr>\n",
       "      <th>353</th>\n",
       "      <td>/autofs/vast/lzgroup/Projects/FastInfantSurfer...</td>\n",
       "      <td>sub-CC01206XX10_ses-143530</td>\n",
       "      <td>43.86</td>\n",
       "      <td>male</td>\n",
       "      <td>0.8</td>\n",
       "    </tr>\n",
       "    <tr>\n",
       "      <th>354</th>\n",
       "      <td>/autofs/vast/lzgroup/Projects/FastInfantSurfer...</td>\n",
       "      <td>sub-CC01105XX08_ses-99330</td>\n",
       "      <td>44.43</td>\n",
       "      <td>male</td>\n",
       "      <td>0.5</td>\n",
       "    </tr>\n",
       "  </tbody>\n",
       "</table>\n",
       "<p>355 rows × 5 columns</p>\n",
       "</div>"
      ],
      "text/plain": [
       "                                                  Path  \\\n",
       "0    /autofs/vast/lzgroup/Projects/FastInfantSurfer...   \n",
       "1    /autofs/vast/lzgroup/Projects/FastInfantSurfer...   \n",
       "2    /autofs/vast/lzgroup/Projects/FastInfantSurfer...   \n",
       "3    /autofs/vast/lzgroup/Projects/FastInfantSurfer...   \n",
       "4    /autofs/vast/lzgroup/Projects/FastInfantSurfer...   \n",
       "..                                                 ...   \n",
       "350  /autofs/vast/lzgroup/Projects/FastInfantSurfer...   \n",
       "351  /autofs/vast/lzgroup/Projects/FastInfantSurfer...   \n",
       "352  /autofs/vast/lzgroup/Projects/FastInfantSurfer...   \n",
       "353  /autofs/vast/lzgroup/Projects/FastInfantSurfer...   \n",
       "354  /autofs/vast/lzgroup/Projects/FastInfantSurfer...   \n",
       "\n",
       "                     SubjectFix  scan_age     sex  Resolution  \n",
       "0    sub-CC00718XX17_ses-210400     26.71  female         0.5  \n",
       "1     sub-CC00936XX21_ses-11431     27.43  female         0.8  \n",
       "2     sub-CC00867XX18_ses-37111     28.29  female         0.5  \n",
       "3    sub-CC00796XX22_ses-245100     29.29  female         0.8  \n",
       "4    sub-CC00530XX11_ses-153600     29.29  female         0.5  \n",
       "..                          ...       ...     ...         ...  \n",
       "350   sub-CC00130XX07_ses-44001     43.43    male         0.5  \n",
       "351   sub-CC00890XX17_ses-13330     43.71    male         0.8  \n",
       "352   sub-CC01027XX13_ses-82630     43.71    male         0.5  \n",
       "353  sub-CC01206XX10_ses-143530     43.86    male         0.8  \n",
       "354   sub-CC01105XX08_ses-99330     44.43    male         0.5  \n",
       "\n",
       "[355 rows x 5 columns]"
      ]
     },
     "execution_count": 26,
     "metadata": {},
     "output_type": "execute_result"
    }
   ],
   "source": [
    "val_sorted"
   ]
  },
  {
   "cell_type": "code",
   "execution_count": 27,
   "id": "ed472923",
   "metadata": {},
   "outputs": [],
   "source": [
    "# write csv-file with res to file\n",
    "val_sorted.to_csv(fstr_out, index=False, sep=\"\\t\")"
   ]
  },
  {
   "cell_type": "code",
   "execution_count": 29,
   "id": "7b0d0ca9",
   "metadata": {},
   "outputs": [
    {
     "data": {
      "text/plain": [
       "'/projects/master-theses/henschell/FastInfantSurfer/data/dataset_split_large_training_t1t2_meta_hires.tsv'"
      ]
     },
     "execution_count": 29,
     "metadata": {},
     "output_type": "execute_result"
    }
   ],
   "source": [
    "fstr_out"
   ]
  },
  {
   "cell_type": "code",
   "execution_count": 17,
   "id": "95838839",
   "metadata": {},
   "outputs": [
    {
     "data": {
      "text/plain": [
       "['/groups/ag-reuter/projects/datasets/dHCP/Data/sub-CC00694XX19_ses-201800',\n",
       " '/groups/ag-reuter/projects/datasets/dHCP/Data/sub-CC00666XX15_ses-198200',\n",
       " '/groups/ag-reuter/projects/datasets/dHCP/Data/sub-CC00526XX15_ses-150500',\n",
       " '/groups/ag-reuter/projects/datasets/dHCP/Data/sub-CC00305XX08_ses-98101',\n",
       " '/groups/ag-reuter/projects/datasets/dHCP/Data/sub-CC01153AN07_ses-102030',\n",
       " '/groups/ag-reuter/projects/datasets/dHCP/Data/sub-CC00628XX18_ses-181800',\n",
       " '/groups/ag-reuter/projects/datasets/dHCP/Data/sub-CC01129XX16_ses-101430',\n",
       " '/groups/ag-reuter/projects/datasets/dHCP/Data/sub-CC00946XX23_ses-15230',\n",
       " '/groups/ag-reuter/projects/datasets/dHCP/Data/sub-CC01218XX14_ses-147430',\n",
       " '/groups/ag-reuter/projects/datasets/dHCP/Data/sub-CC00986AN22_ses-26730',\n",
       " '/groups/ag-reuter/projects/datasets/dHCP/Data/sub-CC00648XX22_ses-191100',\n",
       " '/groups/ag-reuter/projects/datasets/dHCP/Data/sub-CC00517XX14_ses-145000',\n",
       " '/groups/ag-reuter/projects/datasets/dHCP/Data/sub-CC00688XX21_ses-199500',\n",
       " '/groups/ag-reuter/projects/datasets/dHCP/Data/sub-CC00434AN14_ses-127700',\n",
       " '/groups/ag-reuter/projects/datasets/dHCP/Data/sub-CC00597XX21_ses-190200',\n",
       " '/groups/ag-reuter/projects/datasets/dHCP/Data/sub-CC00313XX08_ses-100000',\n",
       " '/groups/ag-reuter/projects/datasets/dHCP/Data/sub-CC00550XX06_ses-157800',\n",
       " '/groups/ag-reuter/projects/datasets/dHCP/Data/sub-CC00301XX04_ses-113001',\n",
       " '/groups/ag-reuter/projects/datasets/dHCP/Data/sub-CC00060XX03_ses-12501',\n",
       " '/groups/ag-reuter/projects/datasets/dHCP/Data/sub-CC00071XX06_ses-27000',\n",
       " '/groups/ag-reuter/projects/datasets/dHCP/Data/sub-CC00720XX11_ses-211101',\n",
       " '/groups/ag-reuter/projects/datasets/dHCP/Data/sub-CC00504XX09_ses-146800',\n",
       " '/groups/ag-reuter/projects/datasets/dHCP/Data/sub-CC00787XX21_ses-19010',\n",
       " '/groups/ag-reuter/projects/datasets/dHCP/Data/sub-CC00377XX15_ses-119800',\n",
       " '/groups/ag-reuter/projects/datasets/dHCP/Data/sub-CC00068XX11_ses-20701',\n",
       " '/groups/ag-reuter/projects/datasets/dHCP/Data/sub-CC00088XX15_ses-31801',\n",
       " '/groups/ag-reuter/projects/datasets/dHCP/Data/sub-CC00716XX15_ses-222800',\n",
       " '/groups/ag-reuter/projects/datasets/dHCP/Data/sub-CC00410XX06_ses-125800',\n",
       " '/groups/ag-reuter/projects/datasets/dHCP/Data/sub-CC00876XX19_ses-17931',\n",
       " '/groups/ag-reuter/projects/datasets/dHCP/Data/sub-CC00458XX13_ses-138900',\n",
       " '/groups/ag-reuter/projects/datasets/dHCP/Data/sub-CC00057XX08_ses-11002',\n",
       " '/groups/ag-reuter/projects/datasets/dHCP/Data/sub-CC00062XX05_ses-13801',\n",
       " '/groups/ag-reuter/projects/datasets/dHCP/Data/sub-CC00946XX23_ses-26330',\n",
       " '/groups/ag-reuter/projects/datasets/dHCP/Data/sub-CC01198XX20_ses-140930',\n",
       " '/groups/ag-reuter/projects/datasets/dHCP/Data/sub-CC00986AN22_ses-41730',\n",
       " '/groups/ag-reuter/projects/datasets/dHCP/Data/sub-CC00349XX20_ses-110300',\n",
       " '/groups/ag-reuter/projects/datasets/dHCP/Data/sub-CC01025XX11_ses-61330',\n",
       " '/groups/ag-reuter/projects/datasets/dHCP/Data/sub-CC01059AN12_ses-72130',\n",
       " '/groups/ag-reuter/projects/datasets/dHCP/Data/sub-CC00997BN25_ses-56430',\n",
       " '/groups/ag-reuter/projects/datasets/dHCP/Data/sub-CC01074XX11_ses-63930',\n",
       " '/groups/ag-reuter/projects/datasets/dHCP/Data/sub-CC00661XX10_ses-195801',\n",
       " '/groups/ag-reuter/projects/datasets/dHCP/Data/sub-CC01077XX14_ses-65230',\n",
       " '/groups/ag-reuter/projects/datasets/dHCP/Data/sub-CC01208XX12_ses-144731',\n",
       " '/groups/ag-reuter/projects/datasets/dHCP/Data/sub-CC00788XX22_ses-243000',\n",
       " '/groups/ag-reuter/projects/datasets/dHCP/Data/sub-CC00218BN12_ses-74800',\n",
       " '/groups/ag-reuter/projects/datasets/dHCP/Data/sub-CC00152AN04_ses-49200',\n",
       " '/groups/ag-reuter/projects/datasets/dHCP/Data/sub-CC01116BN11_ses-84330',\n",
       " '/groups/ag-reuter/projects/datasets/dHCP/Data/sub-CC00569XX17_ses-158300',\n",
       " '/groups/ag-reuter/projects/datasets/dHCP/Data/sub-CC00489XX20_ses-138800',\n",
       " '/groups/ag-reuter/projects/datasets/dHCP/Data/sub-CC00087AN14_ses-31800',\n",
       " '/groups/ag-reuter/projects/datasets/dHCP/Data/sub-CC00406XX10_ses-122900',\n",
       " '/groups/ag-reuter/projects/datasets/dHCP/Data/sub-CC00281AN10_ses-90400',\n",
       " '/groups/ag-reuter/projects/datasets/dHCP/Data/sub-CC00231XX09_ses-77701',\n",
       " '/groups/ag-reuter/projects/datasets/dHCP/Data/sub-CC00122XX07_ses-42000',\n",
       " '/groups/ag-reuter/projects/datasets/dHCP/Data/sub-CC00754BN12_ses-223701',\n",
       " '/groups/ag-reuter/projects/datasets/dHCP/Data/sub-CC00389XX19_ses-133800',\n",
       " '/groups/ag-reuter/projects/datasets/dHCP/Data/sub-CC00066XX09_ses-19200',\n",
       " '/groups/ag-reuter/projects/datasets/dHCP/Data/sub-CC00489XX20_ses-142900',\n",
       " '/groups/ag-reuter/projects/datasets/dHCP/Data/sub-CC00515XX12_ses-152600',\n",
       " '/groups/ag-reuter/projects/datasets/dHCP/Data/sub-CC00329XX16_ses-105400',\n",
       " '/groups/ag-reuter/projects/datasets/dHCP/Data/sub-CC00747XX22_ses-238600',\n",
       " '/groups/ag-reuter/projects/datasets/dHCP/Data/sub-CC00406XX10_ses-129200',\n",
       " '/groups/ag-reuter/projects/datasets/dHCP/Data/sub-CC00585XX17_ses-178900',\n",
       " '/groups/ag-reuter/projects/datasets/dHCP/Data/sub-CC00478XX17_ses-141601',\n",
       " '/groups/ag-reuter/projects/datasets/dHCP/Data/sub-CC00144XX13_ses-47701',\n",
       " '/groups/ag-reuter/projects/datasets/dHCP/Data/sub-CC00594XX18_ses-189800',\n",
       " '/groups/ag-reuter/projects/datasets/dHCP/Data/sub-CC00385XX15_ses-125700',\n",
       " '/groups/ag-reuter/projects/datasets/dHCP/Data/sub-CC00395XX17_ses-129500',\n",
       " '/groups/ag-reuter/projects/datasets/dHCP/Data/sub-CC00189XX17_ses-62301',\n",
       " '/groups/ag-reuter/projects/datasets/dHCP/Data/sub-CC00400XX04_ses-123700',\n",
       " '/groups/ag-reuter/projects/datasets/dHCP/Data/sub-CC00115XX08_ses-37801',\n",
       " '/groups/ag-reuter/projects/datasets/dHCP/Data/sub-CC00171XX07_ses-56300',\n",
       " '/groups/ag-reuter/projects/datasets/dHCP/Data/sub-CC00443XX15_ses-133900',\n",
       " '/groups/ag-reuter/projects/datasets/dHCP/Data/sub-CC00810XX10_ses-29010',\n",
       " '/groups/ag-reuter/projects/datasets/dHCP/Data/sub-CC01111XX06_ses-100031',\n",
       " '/groups/ag-reuter/projects/datasets/dHCP/Data/sub-CC00886XX21_ses-18030',\n",
       " '/groups/ag-reuter/projects/datasets/dHCP/Data/sub-CC00482XX13_ses-142000',\n",
       " '/groups/ag-reuter/projects/datasets/dHCP/Data/sub-CC00554XX10_ses-160200',\n",
       " '/groups/ag-reuter/projects/datasets/dHCP/Data/sub-CC00183XX11_ses-60300',\n",
       " '/groups/ag-reuter/projects/datasets/dHCP/Data/sub-CC00605XX11_ses-187700',\n",
       " '/groups/ag-reuter/projects/datasets/dHCP/Data/sub-CC00089XX16_ses-32101',\n",
       " '/groups/ag-reuter/projects/datasets/dHCP/Data/sub-CC00149XX18_ses-49000',\n",
       " '/groups/ag-reuter/projects/datasets/dHCP/Data/sub-CC00967XX19_ses-58330',\n",
       " '/groups/ag-reuter/projects/datasets/dHCP/Data/sub-CC00481XX12_ses-141800',\n",
       " '/groups/ag-reuter/projects/datasets/dHCP/Data/sub-CC00091XX10_ses-32300',\n",
       " '/groups/ag-reuter/projects/datasets/dHCP/Data/sub-CC00930XX15_ses-43930',\n",
       " '/groups/ag-reuter/projects/datasets/dHCP/Data/sub-CC00908XX17_ses-37030',\n",
       " '/groups/ag-reuter/projects/datasets/dHCP/Data/sub-CC01192XX14_ses-147330',\n",
       " '/groups/ag-reuter/projects/datasets/dHCP/Data/sub-CC00891XX18_ses-30630',\n",
       " '/groups/ag-reuter/projects/datasets/dHCP/Data/sub-CC00352XX06_ses-110700']"
      ]
     },
     "execution_count": 17,
     "metadata": {},
     "output_type": "execute_result"
    }
   ],
   "source": [
    "# check if you can load the file\n",
    "separator = \"\\t\" if fstr_out[-3] == \"t\" else \",\"\n",
    "s_file = pd.read_csv(fstr_out, sep=separator)\n",
    "subject_dirs = s_file[\"Path\"].to_list()\n",
    "subject_dirs"
   ]
  },
  {
   "cell_type": "code",
   "execution_count": null,
   "id": "dcdaa866",
   "metadata": {},
   "outputs": [],
   "source": []
  }
 ],
 "metadata": {
  "kernelspec": {
   "display_name": "Python 3 (ipykernel)",
   "language": "python",
   "name": "python3"
  },
  "language_info": {
   "codemirror_mode": {
    "name": "ipython",
    "version": 3
   },
   "file_extension": ".py",
   "mimetype": "text/x-python",
   "name": "python",
   "nbconvert_exporter": "python",
   "pygments_lexer": "ipython3",
   "version": "3.8.15"
  }
 },
 "nbformat": 4,
 "nbformat_minor": 5
}
