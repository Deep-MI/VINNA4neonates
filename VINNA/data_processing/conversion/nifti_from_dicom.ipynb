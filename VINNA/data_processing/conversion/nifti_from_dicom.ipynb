{
 "cells": [
  {
   "cell_type": "code",
   "execution_count": 19,
   "id": "e4c4347d",
   "metadata": {},
   "outputs": [],
   "source": [
    "import nibabel as nib\n",
    "from os.path import join as opj\n",
    "import numpy as np"
   ]
  },
  {
   "cell_type": "code",
   "execution_count": 22,
   "id": "ec430188",
   "metadata": {},
   "outputs": [],
   "source": [
    "data=\"/projects/datasets/iseg2019\"\n",
    "train=opj(data, \"iSeg-2019-Training\")\n",
    "val=opj(data, \"iSeg-2019-Validation\") # does not have label files\n",
    "out=opj(data, \"iSeg-2019-nifti\")"
   ]
  },
  {
   "cell_type": "code",
   "execution_count": 25,
   "id": "1ee81d0c",
   "metadata": {},
   "outputs": [],
   "source": [
    "sbj1 = nib.load(opj(train, \"subject-1-T1.img\"))"
   ]
  },
  {
   "cell_type": "code",
   "execution_count": 30,
   "id": "d852025f",
   "metadata": {},
   "outputs": [
    {
     "name": "stdout",
     "output_type": "stream",
     "text": [
      "Working on subject-11-T1\n",
      "Working on subject-11-T2\n",
      "Working on subject-11-label\n"
     ]
    },
    {
     "ename": "FileNotFoundError",
     "evalue": "No such file or no access: '/projects/datasets/iseg2019/iSeg-2019-Validation/subject-11-label.img'",
     "output_type": "error",
     "traceback": [
      "\u001b[0;31m---------------------------------------------------------------------------\u001b[0m",
      "\u001b[0;31mFileNotFoundError\u001b[0m                         Traceback (most recent call last)",
      "\u001b[0;32m/opt/conda/lib/python3.7/site-packages/nibabel/loadsave.py\u001b[0m in \u001b[0;36mload\u001b[0;34m(filename, **kwargs)\u001b[0m\n\u001b[1;32m     41\u001b[0m     \u001b[0;32mtry\u001b[0m\u001b[0;34m:\u001b[0m\u001b[0;34m\u001b[0m\u001b[0;34m\u001b[0m\u001b[0m\n\u001b[0;32m---> 42\u001b[0;31m         \u001b[0mstat_result\u001b[0m \u001b[0;34m=\u001b[0m \u001b[0mos\u001b[0m\u001b[0;34m.\u001b[0m\u001b[0mstat\u001b[0m\u001b[0;34m(\u001b[0m\u001b[0mfilename\u001b[0m\u001b[0;34m)\u001b[0m\u001b[0;34m\u001b[0m\u001b[0;34m\u001b[0m\u001b[0m\n\u001b[0m\u001b[1;32m     43\u001b[0m     \u001b[0;32mexcept\u001b[0m \u001b[0mOSError\u001b[0m\u001b[0;34m:\u001b[0m\u001b[0;34m\u001b[0m\u001b[0;34m\u001b[0m\u001b[0m\n",
      "\u001b[0;31mFileNotFoundError\u001b[0m: [Errno 2] No such file or directory: '/projects/datasets/iseg2019/iSeg-2019-Validation/subject-11-label.img'",
      "\nDuring handling of the above exception, another exception occurred:\n",
      "\u001b[0;31mFileNotFoundError\u001b[0m                         Traceback (most recent call last)",
      "\u001b[0;32m/tmp/ipykernel_38/2324236638.py\u001b[0m in \u001b[0;36m<module>\u001b[0;34m\u001b[0m\n\u001b[1;32m      4\u001b[0m         \u001b[0msbj\u001b[0m \u001b[0;34m=\u001b[0m \u001b[0;34mf\"subject-{i}-{imgtyp}\"\u001b[0m\u001b[0;34m\u001b[0m\u001b[0;34m\u001b[0m\u001b[0m\n\u001b[1;32m      5\u001b[0m         \u001b[0mprint\u001b[0m\u001b[0;34m(\u001b[0m\u001b[0;34mf\"Working on {sbj}\"\u001b[0m\u001b[0;34m)\u001b[0m\u001b[0;34m\u001b[0m\u001b[0;34m\u001b[0m\u001b[0m\n\u001b[0;32m----> 6\u001b[0;31m         \u001b[0mimg\u001b[0m \u001b[0;34m=\u001b[0m \u001b[0mnib\u001b[0m\u001b[0;34m.\u001b[0m\u001b[0mload\u001b[0m\u001b[0;34m(\u001b[0m\u001b[0mopj\u001b[0m\u001b[0;34m(\u001b[0m\u001b[0mval\u001b[0m\u001b[0;34m,\u001b[0m \u001b[0msbj\u001b[0m \u001b[0;34m+\u001b[0m \u001b[0;34m\".img\"\u001b[0m\u001b[0;34m)\u001b[0m\u001b[0;34m)\u001b[0m\u001b[0;34m\u001b[0m\u001b[0;34m\u001b[0m\u001b[0m\n\u001b[0m\u001b[1;32m      7\u001b[0m         \u001b[0mimg_array\u001b[0m \u001b[0;34m=\u001b[0m \u001b[0mnp\u001b[0m\u001b[0;34m.\u001b[0m\u001b[0masanyarray\u001b[0m\u001b[0;34m(\u001b[0m\u001b[0mimg\u001b[0m\u001b[0;34m.\u001b[0m\u001b[0mdataobj\u001b[0m\u001b[0;34m)\u001b[0m\u001b[0;34m\u001b[0m\u001b[0;34m\u001b[0m\u001b[0m\n\u001b[1;32m      8\u001b[0m \u001b[0;34m\u001b[0m\u001b[0m\n",
      "\u001b[0;32m/opt/conda/lib/python3.7/site-packages/nibabel/loadsave.py\u001b[0m in \u001b[0;36mload\u001b[0;34m(filename, **kwargs)\u001b[0m\n\u001b[1;32m     42\u001b[0m         \u001b[0mstat_result\u001b[0m \u001b[0;34m=\u001b[0m \u001b[0mos\u001b[0m\u001b[0;34m.\u001b[0m\u001b[0mstat\u001b[0m\u001b[0;34m(\u001b[0m\u001b[0mfilename\u001b[0m\u001b[0;34m)\u001b[0m\u001b[0;34m\u001b[0m\u001b[0;34m\u001b[0m\u001b[0m\n\u001b[1;32m     43\u001b[0m     \u001b[0;32mexcept\u001b[0m \u001b[0mOSError\u001b[0m\u001b[0;34m:\u001b[0m\u001b[0;34m\u001b[0m\u001b[0;34m\u001b[0m\u001b[0m\n\u001b[0;32m---> 44\u001b[0;31m         \u001b[0;32mraise\u001b[0m \u001b[0mFileNotFoundError\u001b[0m\u001b[0;34m(\u001b[0m\u001b[0;34m\"No such file or no access: '%s'\"\u001b[0m \u001b[0;34m%\u001b[0m \u001b[0mfilename\u001b[0m\u001b[0;34m)\u001b[0m\u001b[0;34m\u001b[0m\u001b[0;34m\u001b[0m\u001b[0m\n\u001b[0m\u001b[1;32m     45\u001b[0m     \u001b[0;32mif\u001b[0m \u001b[0mstat_result\u001b[0m\u001b[0;34m.\u001b[0m\u001b[0mst_size\u001b[0m \u001b[0;34m<=\u001b[0m \u001b[0;36m0\u001b[0m\u001b[0;34m:\u001b[0m\u001b[0;34m\u001b[0m\u001b[0;34m\u001b[0m\u001b[0m\n\u001b[1;32m     46\u001b[0m         \u001b[0;32mraise\u001b[0m \u001b[0mImageFileError\u001b[0m\u001b[0;34m(\u001b[0m\u001b[0;34m\"Empty file: '%s'\"\u001b[0m \u001b[0;34m%\u001b[0m \u001b[0mfilename\u001b[0m\u001b[0;34m)\u001b[0m\u001b[0;34m\u001b[0m\u001b[0;34m\u001b[0m\u001b[0m\n",
      "\u001b[0;31mFileNotFoundError\u001b[0m: No such file or no access: '/projects/datasets/iseg2019/iSeg-2019-Validation/subject-11-label.img'"
     ]
    }
   ],
   "source": [
    "for i in range(11, 23):\n",
    "    # load image\n",
    "    for imgtyp in [\"T1\", \"T2\", \"label\"]:\n",
    "        sbj = f\"subject-{i}-{imgtyp}\"\n",
    "        print(f\"Working on {sbj}\")\n",
    "        img = nib.load(opj(val, sbj + \".img\"))\n",
    "        img_array = np.asanyarray(img.dataobj)\n",
    "\n",
    "        # save as nifti\n",
    "        mgh_img = nib.MGHImage(np.squeeze(img_array), img.affine, img.header)\n",
    "        nib.save(mgh_img, opj(out, sbj + '.mgz'))"
   ]
  },
  {
   "cell_type": "code",
   "execution_count": 12,
   "id": "fc52be70",
   "metadata": {},
   "outputs": [],
   "source": [
    "sbj2 = nib.load(opj(out, \"subject-1-T1.nii.gz\"))"
   ]
  },
  {
   "cell_type": "code",
   "execution_count": 26,
   "id": "c65186db",
   "metadata": {},
   "outputs": [
    {
     "name": "stdout",
     "output_type": "stream",
     "text": [
      "<class 'nibabel.spm2analyze.Spm2AnalyzeHeader'> object, endian='<'\n",
      "sizeof_hdr     : 348\n",
      "data_type      : b'SHORT'\n",
      "db_name        : b''\n",
      "extents        : 16384\n",
      "session_error  : 0\n",
      "regular        : b'r'\n",
      "hkey_un0       : b''\n",
      "dim            : [  4 144 192 256   1   1   1   1]\n",
      "vox_units      : b''\n",
      "cal_units      : b''\n",
      "unused1        : 0\n",
      "datatype       : int16\n",
      "bitpix         : 16\n",
      "dim_un0        : 0\n",
      "pixdim         : [0. 1. 1. 1. 1. 1. 1. 1.]\n",
      "vox_offset     : 0.0\n",
      "scl_slope      : nan\n",
      "scl_inter      : 0.0\n",
      "funused3       : 0.0\n",
      "cal_max        : 0.0\n",
      "cal_min        : 0.0\n",
      "compressed     : 0\n",
      "verified       : 0\n",
      "glmax          : 0\n",
      "glmin          : 0\n",
      "descrip        : b''\n",
      "aux_file       : b''\n",
      "orient         : b''\n",
      "origin         : [0 0 0 0 0]\n",
      "generated      : b''\n",
      "scannum        : b''\n",
      "patient_id     : b''\n",
      "exp_date       : b''\n",
      "exp_time       : b''\n",
      "hist_un0       : b''\n",
      "views          : 0\n",
      "vols_added     : 0\n",
      "start_field    : 0\n",
      "field_skip     : 0\n",
      "omax           : 0\n",
      "omin           : 0\n",
      "smax           : 0\n",
      "smin           : 0\n"
     ]
    }
   ],
   "source": [
    "print(sbj1.header)"
   ]
  },
  {
   "cell_type": "code",
   "execution_count": 17,
   "id": "ca791c1c",
   "metadata": {},
   "outputs": [
    {
     "name": "stdout",
     "output_type": "stream",
     "text": [
      "<class 'nibabel.spm2analyze.Spm2AnalyzeImage'>\n",
      "data shape (144, 192, 256, 1)\n",
      "affine: \n",
      "[[  -1.     0.     0.    71.5]\n",
      " [   0.     1.     0.   -95.5]\n",
      " [   0.     0.     1.  -127.5]\n",
      " [   0.     0.     0.     1. ]]\n",
      "metadata:\n",
      "<class 'nibabel.spm2analyze.Spm2AnalyzeHeader'> object, endian='<'\n",
      "sizeof_hdr     : 348\n",
      "data_type      : b'SHORT'\n",
      "db_name        : b''\n",
      "extents        : 16384\n",
      "session_error  : 0\n",
      "regular        : b'r'\n",
      "hkey_un0       : b''\n",
      "dim            : [  4 144 192 256   1   1   1   1]\n",
      "vox_units      : b''\n",
      "cal_units      : b''\n",
      "unused1        : 0\n",
      "datatype       : int16\n",
      "bitpix         : 16\n",
      "dim_un0        : 0\n",
      "pixdim         : [0. 1. 1. 1. 1. 1. 1. 1.]\n",
      "vox_offset     : 0.0\n",
      "scl_slope      : nan\n",
      "scl_inter      : 0.0\n",
      "funused3       : 0.0\n",
      "cal_max        : 0.0\n",
      "cal_min        : 0.0\n",
      "compressed     : 0\n",
      "verified       : 0\n",
      "glmax          : 0\n",
      "glmin          : 0\n",
      "descrip        : b''\n",
      "aux_file       : b''\n",
      "orient         : b''\n",
      "origin         : [0 0 0 0 0]\n",
      "generated      : b''\n",
      "scannum        : b''\n",
      "patient_id     : b''\n",
      "exp_date       : b''\n",
      "exp_time       : b''\n",
      "hist_un0       : b''\n",
      "views          : 0\n",
      "vols_added     : 0\n",
      "start_field    : 0\n",
      "field_skip     : 0\n",
      "omax           : 0\n",
      "omin           : 0\n",
      "smax           : 0\n",
      "smin           : 0\n"
     ]
    }
   ],
   "source": [
    "hdr = nib.load(opj(train, \"subject-1-T1.hdr\"))\n",
    "print(hdr)"
   ]
  },
  {
   "cell_type": "code",
   "execution_count": null,
   "id": "0722627e",
   "metadata": {},
   "outputs": [],
   "source": []
  }
 ],
 "metadata": {
  "kernelspec": {
   "display_name": "Python 3 (ipykernel)",
   "language": "python",
   "name": "python3"
  },
  "language_info": {
   "codemirror_mode": {
    "name": "ipython",
    "version": 3
   },
   "file_extension": ".py",
   "mimetype": "text/x-python",
   "name": "python",
   "nbconvert_exporter": "python",
   "pygments_lexer": "ipython3",
   "version": "3.7.7"
  }
 },
 "nbformat": 4,
 "nbformat_minor": 5
}
